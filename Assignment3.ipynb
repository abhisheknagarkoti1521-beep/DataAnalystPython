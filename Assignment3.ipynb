{
  "nbformat": 4,
  "nbformat_minor": 0,
  "metadata": {
    "colab": {
      "provenance": []
    },
    "kernelspec": {
      "name": "python3",
      "display_name": "Python 3"
    },
    "language_info": {
      "name": "python"
    }
  },
  "cells": [
    {
      "cell_type": "markdown",
      "source": [
        "#Theoretical Questions\n",
        "1-What is the difference between a function and a method in Python?\n",
        "-FUNCTION:\n",
        "\n",
        "A function is a standalone block of code defined independently of any class. It performs a specific task and can be called directly by its name. Functions can accept arguments and return values, operating on the data passed to them."
      ],
      "metadata": {
        "id": "8PU7F035zwRH"
      }
    },
    {
      "cell_type": "code",
      "execution_count": 1,
      "metadata": {
        "colab": {
          "base_uri": "https://localhost:8080/"
        },
        "id": "pmwOgi_pzqFL",
        "outputId": "6c97535e-cd94-45f5-d535-e1b1b05996a5"
      },
      "outputs": [
        {
          "output_type": "stream",
          "name": "stdout",
          "text": [
            "Hello, Abhishek!\n"
          ]
        }
      ],
      "source": [
        "def greet(name):\n",
        "    return f\"Hello, {name}!\"\n",
        "\n",
        "message = greet(\"Abhishek\")\n",
        "print(message)"
      ]
    },
    {
      "cell_type": "markdown",
      "source": [
        "METHOD:\n",
        "\n",
        "A method is a function that is defined inside a class. It is associated with an object (an instance of that class) and operates on the data (attributes) belonging to that specific object. Methods are called on an object using dot notation (e.g., object.method()). They implicitly receive the instance of the class as their first argument, typically named self."
      ],
      "metadata": {
        "id": "SQSW9FwN0yvj"
      }
    },
    {
      "cell_type": "code",
      "source": [
        "class Dog:\n",
        "    def __init__(self, name):\n",
        "        self.name = name\n",
        "\n",
        "    def bark(self):\n",
        "        return f\"{self.name} says Woof!\"\n",
        "\n",
        "my_dog = Dog(\"Buddy\")\n",
        "sound = my_dog.bark()\n",
        "print(sound)"
      ],
      "metadata": {
        "colab": {
          "base_uri": "https://localhost:8080/"
        },
        "id": "O1QiXDFL05ES",
        "outputId": "7e674283-8793-4e92-eb58-da3b4d314db8"
      },
      "execution_count": 2,
      "outputs": [
        {
          "output_type": "stream",
          "name": "stdout",
          "text": [
            "Buddy says Woof!\n"
          ]
        }
      ]
    },
    {
      "cell_type": "markdown",
      "source": [
        "2- Explain the concept of function arguments and parameters in Python.\n",
        "- PARAMETERS:\n",
        "\n",
        "Parameters are the variables defined within the parentheses in a function's definition.\n",
        "\n",
        "They act as placeholders for the values that the function expects to receive when it is called.\n",
        "\n",
        "Parameters define the \"signature\" of the function, indicating what kind and how many inputs it can accept.\n",
        "\n",
        "Example: In def greet(name):, name is a parameter.\n",
        "\n",
        "ARGUMENTS:\n",
        "\n",
        "Arguments are the actual values or data that are passed to a function when it is called.\n",
        "\n",
        "These values are assigned to the corresponding parameters within the function's scope during execution.\n",
        "\n",
        "Arguments can be literals, variables, or expressions.\n",
        "\n",
        "Example: In greet(\"ABHISHEK\"), \"ABHISHEK\" is an argument."
      ],
      "metadata": {
        "id": "CH3TpMVf0-pb"
      }
    },
    {
      "cell_type": "code",
      "source": [
        "def add_numbers(x, y):  # x and y are parameters\n",
        "    return x + y\n",
        "\n",
        "result = add_numbers(5, 3)  # 5 and 3 are arguments\n",
        "print(result)"
      ],
      "metadata": {
        "colab": {
          "base_uri": "https://localhost:8080/"
        },
        "id": "ephXif5r1rDL",
        "outputId": "affd0ca7-3c65-4dac-dff2-8fb416723125"
      },
      "execution_count": 3,
      "outputs": [
        {
          "output_type": "stream",
          "name": "stdout",
          "text": [
            "8\n"
          ]
        }
      ]
    },
    {
      "cell_type": "markdown",
      "source": [
        "3-What are the different ways to define and call a function in Python?\n",
        "\n",
        " Different ways to define a function:\n",
        "\n",
        "1. Standard function with def :\n",
        "\n",
        "The def keyword creates a named function that can contain multiple expressions and statements.\n",
        "\n",
        "EXAMPLE :\n"
      ],
      "metadata": {
        "id": "9la4YRkT1yVV"
      }
    },
    {
      "cell_type": "code",
      "source": [
        "def greet(name):\n",
        "    \"\"\"This function greets the person passed in as a name.\"\"\"\n",
        "    print(f\"Hello, {name}!\")\n",
        "\n",
        "def add_numbers(x, y):\n",
        "    \"\"\"This function adds two numbers and returns the result.\"\"\"\n",
        "    return x + y\n",
        "\n"
      ],
      "metadata": {
        "id": "ISCgD-rW60JT"
      },
      "execution_count": 10,
      "outputs": []
    },
    {
      "cell_type": "markdown",
      "source": [
        "2. Anonymous function with lambda :\n",
        "\n",
        "A lambda function is a small, anonymous (unnamed) function that can only have a single expression. They are useful for short, throwaway operations, especially when passed as arguments to higher-order functions like map(), filter(), or sorted().\n",
        "\n",
        "EXAMPLE :"
      ],
      "metadata": {
        "id": "aYNoHE-L67me"
      }
    },
    {
      "cell_type": "code",
      "source": [
        "# A lambda function that adds two numbers\n",
        "add = lambda x, y: x + y\n",
        "\n",
        "# A lambda function to be used with the sorted() function\n",
        "pairs = [(1, 3), (2, 2), (4, 1)]\n",
        "sorted_pairs = sorted(pairs, key=lambda x: x[1])\n",
        "print(sorted_pairs)\n"
      ],
      "metadata": {
        "colab": {
          "base_uri": "https://localhost:8080/"
        },
        "id": "HtohTp4i7B-2",
        "outputId": "5712c221-62d2-4dc3-e90b-d2c7e6089f65"
      },
      "execution_count": 11,
      "outputs": [
        {
          "output_type": "stream",
          "name": "stdout",
          "text": [
            "[(4, 1), (2, 2), (1, 3)]\n"
          ]
        }
      ]
    },
    {
      "cell_type": "markdown",
      "source": [
        "3. Nested functions :\n",
        "\n",
        "You can define a function inside another function. The inner, or nested, function is only accessible from within the outer function.\n",
        "\n",
        "EXAMPLE :"
      ],
      "metadata": {
        "id": "igBXJ-wj7hRZ"
      }
    },
    {
      "cell_type": "code",
      "source": [
        "def outer_function(text):\n",
        "    def inner_function():\n",
        "        # The inner function can access variables from the outer function's scope\n",
        "        print(text)\n",
        "    inner_function()\n",
        "\n",
        "outer_function(\"Hello from the inner function!\")\n",
        "\n"
      ],
      "metadata": {
        "colab": {
          "base_uri": "https://localhost:8080/"
        },
        "id": "S2G92RVl9O0c",
        "outputId": "96a77045-0616-4902-a07e-187075cdfab0"
      },
      "execution_count": 12,
      "outputs": [
        {
          "output_type": "stream",
          "name": "stdout",
          "text": [
            "Hello from the inner function!\n"
          ]
        }
      ]
    },
    {
      "cell_type": "markdown",
      "source": [
        "Different ways to call a function :\n",
        "\n",
        "1. Direct call :\n",
        "\n",
        "The most straightforward method is to call the function by its name followed by parentheses (), providing any necessary arguments.\n",
        "\n",
        "EXAMPLE :"
      ],
      "metadata": {
        "id": "O2VTvfNs9ZRw"
      }
    },
    {
      "cell_type": "code",
      "source": [
        "def greet(name):\n",
        "    print(f\"Hello, {name}!\")\n",
        "\n",
        "greet(\"Abhishek\")\n",
        "\n"
      ],
      "metadata": {
        "colab": {
          "base_uri": "https://localhost:8080/"
        },
        "id": "IpNbwBrj9qON",
        "outputId": "a5ff79c0-689e-4d4d-d1df-5f6f79e7d207"
      },
      "execution_count": 13,
      "outputs": [
        {
          "output_type": "stream",
          "name": "stdout",
          "text": [
            "Hello, Abhishek!\n"
          ]
        }
      ]
    },
    {
      "cell_type": "markdown",
      "source": [
        "2. Positional arguments :\n",
        "\n",
        "Arguments are passed to the function in the order they are defined in the function signature.\n",
        "\n",
        "EXAMPLE :"
      ],
      "metadata": {
        "id": "UjnAaZT99vHF"
      }
    },
    {
      "cell_type": "code",
      "source": [
        "def describe_pet(animal_type, pet_name):\n",
        "    print(f\"I have a {animal_type} named {pet_name}.\")\n",
        "\n",
        "describe_pet(\"dog\", \"Willie\")\n",
        "\n"
      ],
      "metadata": {
        "colab": {
          "base_uri": "https://localhost:8080/"
        },
        "id": "pFvd_smk902y",
        "outputId": "19f56773-b892-42f3-b269-150a0d6bc545"
      },
      "execution_count": 14,
      "outputs": [
        {
          "output_type": "stream",
          "name": "stdout",
          "text": [
            "I have a dog named Willie.\n"
          ]
        }
      ]
    },
    {
      "cell_type": "markdown",
      "source": [
        "3. Keyword arguments :\n",
        "\n",
        "Arguments are identified by their parameter name in the function call, allowing you to pass them in any order.\n",
        "\n",
        "EXAMPLE :"
      ],
      "metadata": {
        "id": "Cr8iI8sj97D_"
      }
    },
    {
      "cell_type": "code",
      "source": [
        "def describe_pet(animal_type, pet_name):\n",
        "    print(f\"I have a {animal_type} named {pet_name}.\")\n",
        "\n",
        "describe_pet(pet_name=\"Willie\", animal_type=\"dog\")\n",
        "\n"
      ],
      "metadata": {
        "colab": {
          "base_uri": "https://localhost:8080/"
        },
        "id": "WnKHJ1-k-Brx",
        "outputId": "8a2c94fa-2dab-41e6-f77b-69356036e723"
      },
      "execution_count": 15,
      "outputs": [
        {
          "output_type": "stream",
          "name": "stdout",
          "text": [
            "I have a dog named Willie.\n"
          ]
        }
      ]
    },
    {
      "cell_type": "markdown",
      "source": [
        "4. Default arguments :\n",
        "\n",
        "If a parameter is defined with a default value, you can choose to omit that argument during the function call.\n",
        "\n",
        "EXAMPLE :"
      ],
      "metadata": {
        "id": "_1ZTBCy0-Xo3"
      }
    },
    {
      "cell_type": "code",
      "source": [
        "def describe_pet(pet_name, animal_type='dog'):\n",
        "    print(f\"I have a {animal_type} named {pet_name}.\")\n",
        "\n",
        "describe_pet(\"Willie\")\n",
        "\n",
        "\n",
        "describe_pet(\"Harry\", \"hamster\")\n",
        "\n"
      ],
      "metadata": {
        "colab": {
          "base_uri": "https://localhost:8080/"
        },
        "id": "YZePTrSX-cXz",
        "outputId": "00b05200-cf30-4644-b0aa-ad68133c3b72"
      },
      "execution_count": 16,
      "outputs": [
        {
          "output_type": "stream",
          "name": "stdout",
          "text": [
            "I have a dog named Willie.\n",
            "I have a hamster named Harry.\n"
          ]
        }
      ]
    },
    {
      "cell_type": "markdown",
      "source": [
        "5. Arbitrary arguments (*args and **kwargs) :\n",
        "\n",
        "*args (Non-keyword arguments): Allows a function to accept a variable number of positional arguments, which are gathered into a tuple.\n",
        "\n",
        "**kwargs (Keyword arguments): Allows a function to accept a variable number of keyword arguments, which are gathered into a dictionary.\n",
        "\n",
        "EXAMPLE :"
      ],
      "metadata": {
        "id": "m9OTjnLN-jVY"
      }
    },
    {
      "cell_type": "code",
      "source": [
        "def print_args(*args, **kwargs):\n",
        "    print(\"Positional arguments:\", args)\n",
        "    print(\"Keyword arguments:\", kwargs)\n",
        "\n",
        "print_args(1, \"two\", 3, name=\"Alice\", city=\"New York\")\n",
        "\n"
      ],
      "metadata": {
        "colab": {
          "base_uri": "https://localhost:8080/"
        },
        "id": "tPKoGg_U-qIg",
        "outputId": "f7b59c57-578b-4180-a423-08fd30461749"
      },
      "execution_count": 17,
      "outputs": [
        {
          "output_type": "stream",
          "name": "stdout",
          "text": [
            "Positional arguments: (1, 'two', 3)\n",
            "Keyword arguments: {'name': 'Alice', 'city': 'New York'}\n"
          ]
        }
      ]
    },
    {
      "cell_type": "markdown",
      "source": [
        "6. Recursive calls :\n",
        "\n",
        "A function can call itself. This is known as recursion and is useful for solving problems that can be broken down into smaller, similar sub-problems.\n",
        "\n",
        "EXAMPLE :"
      ],
      "metadata": {
        "id": "02j1PcLh-v61"
      }
    },
    {
      "cell_type": "code",
      "source": [
        "def factorial(n):\n",
        "    if n == 1:\n",
        "        return 1\n",
        "    else:\n",
        "        return n * factorial(n - 1)\n",
        "\n",
        "print(factorial(5))\n",
        "\n"
      ],
      "metadata": {
        "colab": {
          "base_uri": "https://localhost:8080/"
        },
        "id": "qDrqVf5R-1nX",
        "outputId": "250c03fb-ffb6-4c69-99eb-7678f0193574"
      },
      "execution_count": 18,
      "outputs": [
        {
          "output_type": "stream",
          "name": "stdout",
          "text": [
            "120\n"
          ]
        }
      ]
    },
    {
      "cell_type": "markdown",
      "source": [
        "4- What is the purpose of the `return` statement in a Python function?\n",
        "\n",
        "- The return statement in a Python function serves two primary purposes:\n",
        "\n",
        "\n",
        "Exiting the Function :\n",
        "\n",
        "- When a return statement is encountered within a function, the function's execution immediately terminates at that point. Any code following the return statement within the function will not be executed. Control then passes back to the part of the program that called the function.\n",
        "\n",
        "\n",
        "Returning a Value :\n",
        "\n",
        "- The return statement allows a function to send a value (or multiple values) back to the caller. This returned value can then be used in further computations, assigned to variables, or printed. If a return statement is used without specifying a value, or if no return statement is present in a function, the function implicitly returns None.\n",
        "\n",
        "EXAMPLE :"
      ],
      "metadata": {
        "id": "_QBklWnI_YAc"
      }
    },
    {
      "cell_type": "code",
      "source": [
        "def add_numbers(a, b):\n",
        "    sum_result = a + b\n",
        "    return sum_result  # Returns the calculated sum\n",
        "\n",
        "def greet(name):\n",
        "    print(f\"Hello, {name}!\")\n",
        "    # No return statement, so it implicitly returns None\n",
        "\n",
        "result = add_numbers(5, 3)\n",
        "print(result)\n",
        "\n",
        "greeting_result = greet(\"ABHISHEK\")\n",
        "print(greeting_result)"
      ],
      "metadata": {
        "colab": {
          "base_uri": "https://localhost:8080/"
        },
        "id": "74iAU_Py_0zB",
        "outputId": "77b02c22-0c97-4ab6-8fc6-ad23c724afe6"
      },
      "execution_count": 19,
      "outputs": [
        {
          "output_type": "stream",
          "name": "stdout",
          "text": [
            "8\n",
            "Hello, ABHISHEK!\n",
            "None\n"
          ]
        }
      ]
    },
    {
      "cell_type": "markdown",
      "source": [
        "5- What are iterators in Python and how do they differ from iterables?\n",
        "\n",
        "Iterators are objects that represent a stream of data and are responsible for producing the next item in the sequence during iteration. They follow the iterator protocol, which requires them to implement two methods:\n",
        "\n",
        "- __iter__(): This method returns the iterator object itself.\n",
        "\n",
        "- __next__(): This method returns the next item from the sequence. If there are no more items, it raises a StopIteration exception.\n",
        "\n",
        "Difference between Iterables and Iterators:\n",
        "\n",
        "- Purpose: An iterable is a container of elements that can be iterated over, while an iterator is a tool that facilitates the iteration process over an iterable.\n",
        "\n",
        "- Methods: Iterables typically implement __iter__ (or __getitem__), while iterators implement both __iter__ and __next__.\n",
        "\n",
        "- Creation: An iterator is generated from an iterable using the built-in iter() function.\n",
        "\n",
        "6-Explain the concept of generators in Python and how they are defined.\n",
        "\n",
        "- Generators in Python are a special type of iterable that allow for the creation of sequences of values on the fly, without storing the entire sequence in memory. This \"lazy evaluation\" makes them particularly efficient for handling large datasets or potentially infinite sequences, as values are generated only when requested.\n",
        "\n",
        "How Generators are Defined:\n",
        "\n",
        "- Generators are primarily defined in two ways: generator functions.\n",
        "\n",
        "- A generator function is similar to a regular Python function, but instead of using the return keyword to send back a value and terminate, it uses the yield keyword. When a yield statement is encountered, the function's execution is paused, the yielded value is returned to the caller, and the function's state (including local variables and instruction pointer) is saved. When the generator is iterated upon again, execution resumes from where it left off.\n",
        "\n",
        "\n",
        "\n"
      ],
      "metadata": {
        "id": "zakcB8U3_9qz"
      }
    },
    {
      "cell_type": "code",
      "source": [
        "def simple_generator():\n",
        "        yield 1\n",
        "        yield 2\n",
        "        yield 3 # Using the generator function\n",
        "gen = simple_generator()\n",
        "print(next(gen))\n",
        "print(next(gen))"
      ],
      "metadata": {
        "colab": {
          "base_uri": "https://localhost:8080/"
        },
        "id": "BH2rVWcrC5Dr",
        "outputId": "7e23ea92-d9e6-4a0e-f060-8345d2a04f8a"
      },
      "execution_count": 20,
      "outputs": [
        {
          "output_type": "stream",
          "name": "stdout",
          "text": [
            "1\n",
            "2\n"
          ]
        }
      ]
    },
    {
      "cell_type": "markdown",
      "source": [
        "7-What are the advantages of using generators over regular functions?\n",
        "\n",
        "- Memory Efficiency: Generators produce values on-demand using yield, rather than creating a complete list in memory. This is crucial for handling large datasets or infinite sequences, as it avoids high memory consumption.\n",
        "\n",
        "- Lazy Evaluation: Values are computed only when requested, improving performance and reducing computational overhead when the entire dataset is not immediately needed.\n",
        "\n",
        "- Infinite Sequences: Generators can represent infinite streams of data, like the Fibonacci sequence, because they don't need to store all elements at once. They produce the next value in the sequence as needed.\n",
        "\n",
        "- Pipelining: Generators can be chained together to create efficient data processing pipelines. Each generator in the pipeline processes a segment of data, forwarding it to the next stage without holding the entire dataset in memory.\n",
        "\n",
        "- Simplified Code: For complex iteration logic, generators can offer cleaner and more straightforward syntax compared to writing traditional loops, enhancing code clarity.\n",
        "\n",
        "- Execution State Retention: Generator functions can pause their execution with yield and resume later, maintaining their internal state between calls. Regular functions, in contrast, complete their execution after returning a single value."
      ],
      "metadata": {
        "id": "FnJI1UiQDApz"
      }
    },
    {
      "cell_type": "markdown",
      "source": [
        "8-What is a lambda function in Python and when is it typically used?\n",
        "\n",
        "A lambda function in Python is a small, anonymous function defined using the lambda keyword. Unlike regular functions defined with def, lambda functions are typically single-expression functions, meaning they can only contain one expression whose result is implicitly returned. They do not have a name, hence \"anonymous.\"\n",
        "\n",
        "Typical use cases include:\n",
        "\n",
        "- With map(), filter(), and sorted(): Lambda functions provide a concise way to define the transformation, filtering condition, or sorting key directly within these functions.\n",
        "\n",
        "EXAMPLE :"
      ],
      "metadata": {
        "id": "zcrf4dswEDGG"
      }
    },
    {
      "cell_type": "code",
      "source": [
        "# Example with map()\n",
        "numbers = [1, 2, 3, 4]\n",
        "squared_numbers = list(map(lambda x: x**2, numbers))\n",
        "print(squared_numbers) # Output: [1, 4, 9, 16]\n",
        "\n",
        "# Example with filter()\n",
        "even_numbers = list(filter(lambda x: x % 2 == 0, numbers))\n",
        "print(even_numbers) # Output: [2, 4]\n",
        "\n",
        "    # Example with sorted()\n",
        "data = [(1, 'b'), (3, 'a'), (2, 'c')]\n",
        "sorted_data = sorted(data, key=lambda item: item[1])\n",
        "print(sorted_data) # Output: [(3, 'a'), (1, 'b'), (2, 'c')]"
      ],
      "metadata": {
        "colab": {
          "base_uri": "https://localhost:8080/"
        },
        "id": "HcwKM7SkEXOq",
        "outputId": "64e210b4-d98d-4901-9212-1bd57a91d0d0"
      },
      "execution_count": 21,
      "outputs": [
        {
          "output_type": "stream",
          "name": "stdout",
          "text": [
            "[1, 4, 9, 16]\n",
            "[2, 4]\n",
            "[(3, 'a'), (1, 'b'), (2, 'c')]\n"
          ]
        }
      ]
    },
    {
      "cell_type": "markdown",
      "source": [
        "9-Explain the purpose and usage of the `map()` function in Python.\n",
        "\n",
        "Purpose:\n",
        "\n",
        "- The primary purpose of map() is to enable functional programming paradigms by applying a transformation function across an entire iterable. It provides a concise and efficient way to perform operations on each element of a collection, resulting in a new collection containing the modified elements.\n",
        "\n",
        "Usage:\n",
        "\n",
        "The map() function takes two main arguments:\n",
        "\n",
        "- function: The function to be applied to each item of the iterable(s). This can be a predefined function, a user-defined function, or a lambda expression.\n",
        "\n",
        "- iterable: One or more iterables whose elements will be passed to the function.\n",
        "\n",
        "EXAMPLE :"
      ],
      "metadata": {
        "id": "-3y_BxWeEjxI"
      }
    },
    {
      "cell_type": "code",
      "source": [
        "def square(number):\n",
        "    return number * number\n",
        "\n",
        "numbers = [1, 2, 3, 4, 5]\n",
        "squared_numbers_map = map(square, numbers)\n",
        "\n",
        "# Convert the map object to a list for viewing the results\n",
        "squared_numbers_list = list(squared_numbers_map)\n",
        "print(squared_numbers_list)"
      ],
      "metadata": {
        "colab": {
          "base_uri": "https://localhost:8080/"
        },
        "id": "fa63jehtE_HC",
        "outputId": "0dc85053-f32e-47d4-9d3e-eff21ebc16b3"
      },
      "execution_count": 22,
      "outputs": [
        {
          "output_type": "stream",
          "name": "stdout",
          "text": [
            "[1, 4, 9, 16, 25]\n"
          ]
        }
      ]
    },
    {
      "cell_type": "markdown",
      "source": [
        "10-What is the difference between `map()`, `reduce()`, and `filter()` functions in Python?\n",
        "\n",
        "map() :\n",
        "\n",
        "- Purpose: Applies a given function to each item of an iterable (like a list, tuple, etc.) and returns an iterator that yields the results.\n",
        "\n",
        "- Output: An iterable (map object in Python 3, which can be converted to a list using list()) of the same length as the input iterable, where each element is the result of applying the function to the corresponding input element.\n",
        "\n",
        "Example:"
      ],
      "metadata": {
        "id": "PsYfARzMFDjX"
      }
    },
    {
      "cell_type": "code",
      "source": [
        "numbers = [1, 2, 3, 4]\n",
        "squared_numbers = list(map(lambda x: x * x, numbers))\n",
        "# squared_numbers will be [1, 4, 9, 16]"
      ],
      "metadata": {
        "id": "GrStKB9NFPwv"
      },
      "execution_count": 25,
      "outputs": []
    },
    {
      "cell_type": "markdown",
      "source": [
        "filter() :\n",
        "\n",
        "- Purpose: Constructs an iterator from elements of an iterable for which a function returns true.\n",
        "\n",
        "- Output: An iterable (filter object in Python 3, convertible to a list) containing only the elements from the input iterable that satisfy the condition defined by the function (i.e., for which the function returns True). The length of the output can be less than or equal to the input.\n",
        "\n",
        "Example:"
      ],
      "metadata": {
        "id": "rxW-5BGhFXbA"
      }
    },
    {
      "cell_type": "code",
      "source": [
        "numbers = [1, 2, 3, 4, 5, 6]\n",
        "even_numbers = list(filter(lambda x: x % 2 == 0, numbers))\n",
        "# even_numbers will be [2, 4, 6]"
      ],
      "metadata": {
        "id": "LK0_hhdRFc5e"
      },
      "execution_count": 26,
      "outputs": []
    },
    {
      "cell_type": "markdown",
      "source": [
        "reduce() :\n",
        "\n",
        "- Purpose: Applies a function of two arguments cumulatively to the items of an iterable, from left to right, to reduce the iterable to a single value. It needs to be imported from the functools module.\n",
        "\n",
        "- Output: A single value that is the result of the cumulative application of the function.\n",
        "\n",
        "Example:"
      ],
      "metadata": {
        "id": "fVg9U6SuFh96"
      }
    },
    {
      "cell_type": "code",
      "source": [
        "from functools import reduce\n",
        "numbers = [1, 2, 3, 4]\n",
        "sum_of_numbers = reduce(lambda x, y: x + y, numbers)\n",
        "# sum_of_numbers will be 10 (1+2+3+4)"
      ],
      "metadata": {
        "id": "9QtuP1vGFqMV"
      },
      "execution_count": 27,
      "outputs": []
    },
    {
      "cell_type": "markdown",
      "source": [
        "11-Using pen & Paper write the internal mechanism for sum operation using  reduce function on this given\n",
        "list:[47,11,42,13]; ![WhatsApp Image 2025-09-28 at 10.31.55 PM.jpeg](data:image/jpeg;base64,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)"
      ],
      "metadata": {
        "id": "n2_0vxOMQ-ai"
      }
    },
    {
      "cell_type": "markdown",
      "source": [
        "#CODING QUESTIONS\n",
        "1- Write a Python function that takes a list of numbers as input and returns the sum of all even numbers in\n",
        "the list."
      ],
      "metadata": {
        "id": "maQo210wSUJz"
      }
    },
    {
      "cell_type": "code",
      "source": [
        "def sum_even_numbers(numbers):\n",
        "\n",
        "    even_sum = 0\n",
        "    for number in numbers:\n",
        "        # Check if the number is even using the modulo operator\n",
        "        if number % 2 == 0:\n",
        "            even_sum += number\n",
        "    return even_sum\n",
        "\n",
        "\n",
        "my_list = [47, 11, 42, 13, 10, 8]\n",
        "print(f\"The sum of even numbers is: {sum_even_numbers(my_list)}\")\n"
      ],
      "metadata": {
        "colab": {
          "base_uri": "https://localhost:8080/"
        },
        "id": "Ugv88XsiSmtP",
        "outputId": "98ee5509-ab6b-410e-f878-7a5f76baacb4"
      },
      "execution_count": 28,
      "outputs": [
        {
          "output_type": "stream",
          "name": "stdout",
          "text": [
            "The sum of even numbers is: 60\n"
          ]
        }
      ]
    },
    {
      "cell_type": "markdown",
      "source": [
        "2-Create a Python function that accepts a string and returns the reverse of that string.\n"
      ],
      "metadata": {
        "id": "06Q7xUYbSs2f"
      }
    },
    {
      "cell_type": "code",
      "source": [
        "def reverse_string_slicing(s):\n",
        "\n",
        "    return s[::-1]\n",
        "\n",
        "\n",
        "original_string = \"hello abhishek\"\n",
        "reversed_str = reverse_string_slicing(original_string)\n",
        "print(f\"Original string: {original_string}\")\n",
        "print(f\"Reversed string: {reversed_str}\")\n",
        "\n"
      ],
      "metadata": {
        "colab": {
          "base_uri": "https://localhost:8080/"
        },
        "id": "stCGnkhqS1xo",
        "outputId": "87d42de1-f8b5-42ff-c90d-36fff6fc6b91"
      },
      "execution_count": 29,
      "outputs": [
        {
          "output_type": "stream",
          "name": "stdout",
          "text": [
            "Original string: hello abhishek\n",
            "Reversed string: kehsihba olleh\n"
          ]
        }
      ]
    },
    {
      "cell_type": "markdown",
      "source": [
        "3-Implement a Python function that takes a list of integers and returns a new list containing the squares of\n",
        "each number."
      ],
      "metadata": {
        "id": "UP_a8HdqS-93"
      }
    },
    {
      "cell_type": "code",
      "source": [
        "def square_numbers(numbers):\n",
        "\n",
        "    return [number ** 2 for number in numbers]\n",
        "\n",
        "my_list = [1, 2, 3, 4, 5]\n",
        "squared_list = square_numbers(my_list)\n",
        "print(f\"Original list: {my_list}\")\n",
        "print(f\"Squared list: {squared_list}\")\n"
      ],
      "metadata": {
        "colab": {
          "base_uri": "https://localhost:8080/"
        },
        "id": "oxLxtc85TDow",
        "outputId": "98561f3a-ca26-40ce-f620-0d92e3d0100a"
      },
      "execution_count": 30,
      "outputs": [
        {
          "output_type": "stream",
          "name": "stdout",
          "text": [
            "Original list: [1, 2, 3, 4, 5]\n",
            "Squared list: [1, 4, 9, 16, 25]\n"
          ]
        }
      ]
    },
    {
      "cell_type": "markdown",
      "source": [
        "4- Write a Python function that checks if a given number is prime or not from 1 to 200.\n",
        "\n",
        "\n"
      ],
      "metadata": {
        "id": "ELQy3nu8TLAS"
      }
    },
    {
      "cell_type": "code",
      "source": [
        "import math\n",
        "\n",
        "def is_prime_in_range(n):\n",
        "\n",
        "    if not (1 <= n <= 200):\n",
        "        print(\"Number is not within the specified range (1 to 200).\")\n",
        "        return False\n",
        "\n",
        "    if n <= 1:\n",
        "        return False\n",
        "\n",
        "    if n == 2:\n",
        "        return True\n",
        "\n",
        "    if n % 2 == 0:\n",
        "        return False\n",
        "\n",
        "\n",
        "    for i in range(3, int(math.sqrt(n)) + 1, 2):\n",
        "        if n % i == 0:\n",
        "            return False\n",
        "\n",
        "    return True\n",
        "\n",
        "print(f\"Is 2 a prime number? {is_prime_in_range(2)}\")\n",
        "print(f\"Is 13 a prime number? {is_prime_in_range(13)}\")\n",
        "print(f\"Is 100 a prime number? {is_prime_in_range(100)}\")\n",
        "print(f\"Is 199 a prime number? {is_prime_in_range(199)}\")\n",
        "\n",
        "print(f\"Is 250 a prime number? {is_prime_in_range(250)}\")\n"
      ],
      "metadata": {
        "colab": {
          "base_uri": "https://localhost:8080/"
        },
        "id": "DQmcjxy5TShx",
        "outputId": "73955539-32fb-46ad-a82c-5aa1a10532cf"
      },
      "execution_count": 31,
      "outputs": [
        {
          "output_type": "stream",
          "name": "stdout",
          "text": [
            "Is 2 a prime number? True\n",
            "Is 13 a prime number? True\n",
            "Is 100 a prime number? False\n",
            "Is 199 a prime number? True\n",
            "Number is not within the specified range (1 to 200).\n",
            "Is 250 a prime number? False\n"
          ]
        }
      ]
    },
    {
      "cell_type": "markdown",
      "source": [
        "5-Create an iterator class in Python that generates the Fibonacci sequence up to a specified number of\n",
        "terms.\n",
        "\n"
      ],
      "metadata": {
        "id": "5FosDLXBTm4b"
      }
    },
    {
      "cell_type": "code",
      "source": [
        "class FibonacciIterator:\n",
        "\n",
        "    def __init__(self, num_terms):\n",
        "\n",
        "        self.num_terms = num_terms\n",
        "        self.count = 0\n",
        "        self.a, self.b = 0, 1\n",
        "\n",
        "    def __iter__(self):\n",
        "\n",
        "        return self\n",
        "\n",
        "    def __next__(self):\n",
        "\n",
        "        if self.count >= self.num_terms:\n",
        "            raise StopIteration\n",
        "\n",
        "        if self.count == 0:\n",
        "            self.count += 1\n",
        "            return 0\n",
        "        elif self.count == 1:\n",
        "            self.count += 1\n",
        "            return 1\n",
        "\n",
        "        result = self.a + self.b\n",
        "        self.a, self.b = self.b, result\n",
        "        self.count += 1\n",
        "        return result\n",
        "\n",
        "fib_gen = FibonacciIterator(10)\n",
        "\n",
        "print(\"Using a for loop:\")\n",
        "for number in fib_gen:\n",
        "    print(number)\n",
        "\n",
        "print(\"\\nUsing the next() function manually:\")\n",
        "\n",
        "fib_manual = FibonacciIterator(5)\n",
        "print(next(fib_manual))\n",
        "print(next(fib_manual))\n",
        "print(next(fib_manual))\n",
        "print(next(fib_manual))\n",
        "print(next(fib_manual))\n",
        "\n",
        "try:\n",
        "    print(next(fib_manual))\n",
        "except StopIteration:\n",
        "    print(\"Caught StopIteration: Sequence exhausted.\")\n"
      ],
      "metadata": {
        "colab": {
          "base_uri": "https://localhost:8080/"
        },
        "id": "EI78rGQxTrTu",
        "outputId": "8c4f8cc8-0400-4dc6-8033-6ad64930fecc"
      },
      "execution_count": 32,
      "outputs": [
        {
          "output_type": "stream",
          "name": "stdout",
          "text": [
            "Using a for loop:\n",
            "0\n",
            "1\n",
            "1\n",
            "2\n",
            "3\n",
            "5\n",
            "8\n",
            "13\n",
            "21\n",
            "34\n",
            "\n",
            "Using the next() function manually:\n",
            "0\n",
            "1\n",
            "1\n",
            "2\n",
            "3\n",
            "Caught StopIteration: Sequence exhausted.\n"
          ]
        }
      ]
    },
    {
      "cell_type": "markdown",
      "source": [
        "6- Write a generator function in Python that yields the powers of 2 up to a given exponent"
      ],
      "metadata": {
        "id": "LosZPbi0UF00"
      }
    },
    {
      "cell_type": "code",
      "source": [
        "def powers_of_two(max_exponent):\n",
        "\n",
        "    for exponent in range(max_exponent + 1):\n",
        "        yield 2 ** exponent\n",
        "\n",
        "pow2_gen = powers_of_two(5)\n",
        "\n",
        "print(\"Powers of 2 up to exponent 5:\")\n",
        "\n",
        "for p in pow2_gen:\n",
        "    print(p)\n",
        "\n",
        "print(\"\\nAccessing values one by one with next():\")\n",
        "pow2_gen2 = powers_of_two(3)\n",
        "print(next(pow2_gen2))\n",
        "print(next(pow2_gen2))\n",
        "print(next(pow2_gen2))\n",
        "print(next(pow2_gen2))\n",
        "\n",
        "\n",
        "try:\n",
        "    print(next(pow2_gen2))\n",
        "except StopIteration:\n",
        "    print(\"Caught StopIteration: The generator is exhausted.\")\n"
      ],
      "metadata": {
        "colab": {
          "base_uri": "https://localhost:8080/"
        },
        "id": "3Ydr9Ud2UKzS",
        "outputId": "14a0cb34-9c04-4be7-8bdb-3d56423f0ac0"
      },
      "execution_count": 33,
      "outputs": [
        {
          "output_type": "stream",
          "name": "stdout",
          "text": [
            "Powers of 2 up to exponent 5:\n",
            "1\n",
            "2\n",
            "4\n",
            "8\n",
            "16\n",
            "32\n",
            "\n",
            "Accessing values one by one with next():\n",
            "1\n",
            "2\n",
            "4\n",
            "8\n",
            "Caught StopIteration: The generator is exhausted.\n"
          ]
        }
      ]
    },
    {
      "cell_type": "markdown",
      "source": [
        "7-Implement a generator function that reads a file line by line and yields each line as a string."
      ],
      "metadata": {
        "id": "FGioUL4aUcMw"
      }
    },
    {
      "cell_type": "code",
      "source": [
        "import math\n",
        "import sys\n",
        "\n",
        "def sum_even_numbers(numbers):\n",
        "\n",
        "    return sum(num for num in numbers if num % 2 == 0)\n",
        "\n",
        "def reverse_string_slicing(s):\n",
        "\n",
        "    return s[::-1]\n",
        "\n",
        "def square_numbers(numbers):\n",
        "\n",
        "    return [number ** 2 for number in numbers]\n",
        "\n",
        "def is_prime_in_range(n):\n",
        "\n",
        "    if not (1 <= n <= 200):\n",
        "\n",
        "        print(\"Error: Number is not within the specified range (1 to 200).\", file=sys.stderr)\n",
        "        return False\n",
        "\n",
        "    if n <= 1:\n",
        "        return False\n",
        "    if n == 2:\n",
        "        return True\n",
        "    if n % 2 == 0:\n",
        "        return False\n",
        "\n",
        "    for i in range(3, int(math.sqrt(n)) + 1, 2):\n",
        "        if n % i == 0:\n",
        "            return False\n",
        "\n",
        "    return True\n",
        "\n",
        "class FibonacciIterator:\n",
        "\n",
        "    def __init__(self, num_terms):\n",
        "\n",
        "        self.num_terms = num_terms\n",
        "        self.count = 0\n",
        "        self.a, self.b = 0, 1\n",
        "\n",
        "    def __iter__(self):\n",
        "        return self\n",
        "\n",
        "    def __next__(self):\n",
        "        if self.count >= self.num_terms:\n",
        "            raise StopIteration\n",
        "\n",
        "        if self.count == 0:\n",
        "            self.count += 1\n",
        "            return 0\n",
        "        elif self.count == 1:\n",
        "            self.count += 1\n",
        "            return 1\n",
        "\n",
        "        result = self.a + self.b\n",
        "        self.a, self.b = self.b, result\n",
        "        self.count += 1\n",
        "        return result\n",
        "\n",
        "def powers_of_two(max_exponent):\n",
        "\n",
        "    for exponent in range(max_exponent + 1):\n",
        "        yield 2 ** exponent\n",
        "\n",
        "def read_file_lines(file_path):\n",
        "\n",
        "    try:\n",
        "        with open(file_path, 'r') as file:\n",
        "            for line in file:\n",
        "                yield line\n",
        "    except FileNotFoundError:\n",
        "        print(f\"Error: The file '{file_path}' was not found.\", file=sys.stderr)\n",
        "    except Exception as e:\n",
        "        print(f\"An error occurred: {e}\", file=sys.stderr)\n",
        "\n",
        "\n",
        "def main():\n",
        "\n",
        "    # --- Example for sum_even_numbers ---\n",
        "    my_list = [47, 11, 42, 13, 18, 56]\n",
        "    print(f\"Original list: {my_list}\")\n",
        "    print(f\"The sum of even numbers is: {sum_even_numbers(my_list)}\")\n",
        "    print(\"-\" * 30)\n",
        "\n",
        "    # --- Example for reverse_string_slicing ---\n",
        "    original_string = \"hello world\"\n",
        "    reversed_str = reverse_string_slicing(original_string)\n",
        "    print(f\"Original string: {original_string}\")\n",
        "    print(f\"Reversed string: {reversed_str}\")\n",
        "    print(\"-\" * 30)\n",
        "\n",
        "    # --- Example for square_numbers ---\n",
        "    squared_list = square_numbers(my_list)\n",
        "    print(f\"Original list: {my_list}\")\n",
        "    print(f\"Squared list: {squared_list}\")\n",
        "    print(\"-\" * 30)\n",
        "\n",
        "    # --- Example for is_prime_in_range ---\n",
        "    print(f\"Is 13 a prime number? {is_prime_in_range(13)}\")\n",
        "    print(f\"Is 100 a prime number? {is_prime_in_range(100)}\")\n",
        "    print(f\"Is 199 a prime number? {is_prime_in_range(199)}\")\n",
        "    print(\"-\" * 30)\n",
        "\n",
        "    # --- Example for FibonacciIterator ---\n",
        "    fib_gen = FibonacciIterator(10)\n",
        "    print(\"Fibonacci sequence (10 terms):\")\n",
        "    for number in fib_gen:\n",
        "        print(number, end=\" \")\n",
        "    print(\"\\n\" + \"-\" * 30)\n",
        "\n",
        "    # --- Example for powers_of_two ---\n",
        "    pow2_gen = powers_of_two(5)\n",
        "    print(\"Powers of 2 up to exponent 5:\")\n",
        "    for p in pow2_gen:\n",
        "        print(p, end=\" \")\n",
        "    print(\"\\n\" + \"-\" * 30)\n",
        "\n",
        "    # --- Example for read_file_lines ---\n",
        "\n",
        "    file_path = \"sample.txt\"\n",
        "    with open(file_path, \"w\") as f:\n",
        "        f.write(\"This is the first line.\\n\")\n",
        "        f.write(\"Here is the second line.\\n\")\n",
        "        f.write(\"And the third, with a trailing newline.\\n\")\n",
        "\n",
        "    print(\"Reading from file line by line:\")\n",
        "    line_generator = read_file_lines(file_path)\n",
        "    for line in line_generator:\n",
        "        print(line, end='')\n",
        "    print(\"-\" * 30)\n",
        "\n",
        "\n",
        "if __name__ == \"__main__\":\n",
        "    main()\n"
      ],
      "metadata": {
        "colab": {
          "base_uri": "https://localhost:8080/"
        },
        "id": "ahqr5RrqUgno",
        "outputId": "a73abcd3-bb30-4065-e8d2-fa3843a11a12"
      },
      "execution_count": 34,
      "outputs": [
        {
          "output_type": "stream",
          "name": "stdout",
          "text": [
            "Original list: [47, 11, 42, 13, 18, 56]\n",
            "The sum of even numbers is: 116\n",
            "------------------------------\n",
            "Original string: hello world\n",
            "Reversed string: dlrow olleh\n",
            "------------------------------\n",
            "Original list: [47, 11, 42, 13, 18, 56]\n",
            "Squared list: [2209, 121, 1764, 169, 324, 3136]\n",
            "------------------------------\n",
            "Is 13 a prime number? True\n",
            "Is 100 a prime number? False\n",
            "Is 199 a prime number? True\n",
            "------------------------------\n",
            "Fibonacci sequence (10 terms):\n",
            "0 1 1 2 3 5 8 13 21 34 \n",
            "------------------------------\n",
            "Powers of 2 up to exponent 5:\n",
            "1 2 4 8 16 32 \n",
            "------------------------------\n",
            "Reading from file line by line:\n",
            "This is the first line.\n",
            "Here is the second line.\n",
            "And the third, with a trailing newline.\n",
            "------------------------------\n"
          ]
        }
      ]
    },
    {
      "cell_type": "markdown",
      "source": [
        "8- Use a lambda function in Python to sort a list of tuples based on the second element of each tuple."
      ],
      "metadata": {
        "id": "BnN5coCvWuZ3"
      }
    },
    {
      "cell_type": "code",
      "source": [
        "data = [('apple', 25), ('banana', 54), ('cherry', 10), ('fig', 36)]\n",
        "\n",
        "data.sort(key=lambda x: x[1])\n",
        "\n",
        "print(f\"Sorted list (in-place): {data}\")\n",
        "\n",
        "\n"
      ],
      "metadata": {
        "colab": {
          "base_uri": "https://localhost:8080/"
        },
        "id": "v4fbGNkDWyvH",
        "outputId": "a4c9db58-98dd-4384-9912-d2bea5e553df"
      },
      "execution_count": 35,
      "outputs": [
        {
          "output_type": "stream",
          "name": "stdout",
          "text": [
            "Sorted list (in-place): [('cherry', 10), ('apple', 25), ('fig', 36), ('banana', 54)]\n"
          ]
        }
      ]
    },
    {
      "cell_type": "markdown",
      "source": [
        "9-Write a Python program that uses `map()` to convert a list of temperatures from Celsius to Fahrenheit."
      ],
      "metadata": {
        "id": "6h7n6HtxXAV-"
      }
    },
    {
      "cell_type": "code",
      "source": [
        "celsius_temps = [0, 10, 20, 30, 40]\n",
        "\n",
        "\n",
        "fahrenheit_temps = list(map(lambda c: (c * 9/5) + 32, celsius_temps))\n",
        "\n",
        "print(f\"Celsius temperatures:    {celsius_temps}\")\n",
        "print(f\"Fahrenheit temperatures: {fahrenheit_temps}\")\n"
      ],
      "metadata": {
        "colab": {
          "base_uri": "https://localhost:8080/"
        },
        "id": "wyfnMW5QXFej",
        "outputId": "0d7b13c4-809a-4e50-a47f-c9a843092285"
      },
      "execution_count": 36,
      "outputs": [
        {
          "output_type": "stream",
          "name": "stdout",
          "text": [
            "Celsius temperatures:    [0, 10, 20, 30, 40]\n",
            "Fahrenheit temperatures: [32.0, 50.0, 68.0, 86.0, 104.0]\n"
          ]
        }
      ]
    },
    {
      "cell_type": "markdown",
      "source": [
        "10-Create a Python program that uses `filter()` to remove all the vowels from a given string."
      ],
      "metadata": {
        "id": "pAUyNpaHXaTY"
      }
    },
    {
      "cell_type": "code",
      "source": [
        "original_string = \"Hello World! This is a simple test.\"\n",
        "\n",
        "vowels = \"aeiouAEIOU\"\n",
        "\n",
        "filtered_chars = filter(lambda char: char not in vowels, original_string)\n",
        "\n",
        "new_string = \"\".join(filtered_chars)\n",
        "\n",
        "\n",
        "print(f\"Original string: {original_string}\")\n",
        "print(f\"String without vowels: {new_string}\")\n"
      ],
      "metadata": {
        "colab": {
          "base_uri": "https://localhost:8080/"
        },
        "id": "pSXvWeKcXgI-",
        "outputId": "8d1287ea-8ed1-4455-ad8b-23ac033feb50"
      },
      "execution_count": 37,
      "outputs": [
        {
          "output_type": "stream",
          "name": "stdout",
          "text": [
            "Original string: Hello World! This is a simple test.\n",
            "String without vowels: Hll Wrld! Ths s  smpl tst.\n"
          ]
        }
      ]
    },
    {
      "cell_type": "markdown",
      "source": [
        "11-Write a Python program, which returns a list with 2-tuples. Each tuple consists of the order number and the\n",
        "product of the price per item and the quantity. The product should be increased by 10,- € if the value of the\n",
        "order is smaller than 100,00 €.\n",
        "\n",
        "Write a Python program using lambda and map."
      ],
      "metadata": {
        "id": "vv0x9WpjZSz0"
      }
    },
    {
      "cell_type": "code",
      "source": [
        "orders = [\n",
        "    (101, 15.50, 5),   # Total: 77.50 (less than 100, so +10)\n",
        "    (102, 25.00, 4),   # Total: 100.00 (not smaller than 100, no bonus)\n",
        "    (103, 50.00, 3),   # Total: 150.00 (greater than 100, no bonus)\n",
        "    (104, 99.99, 1),   # Total: 99.99 (less than 100, so +10)\n",
        "    (105, 10.00, 10),  # Total: 100.00 (not smaller than 100, no bonus)\n",
        "]\n",
        "\n",
        "\n",
        "processed_orders = list(map(\n",
        "    lambda o: (o[0], (o[1] * o[2]) + 10 if (o[1] * o[2]) < 100 else (o[1] * o[2])),\n",
        "    orders\n",
        "))\n",
        "\n",
        "# Print the results\n",
        "print(\"Original Orders (Order #, Price/Item, Quantity):\")\n",
        "for order in orders:\n",
        "    print(order)\n",
        "\n",
        "print(\"\\nProcessed Orders (Order #, Final Value):\")\n",
        "for processed_order in processed_orders:\n",
        "    print(processed_order)\n"
      ],
      "metadata": {
        "colab": {
          "base_uri": "https://localhost:8080/"
        },
        "id": "UO5KdzJcZ2PW",
        "outputId": "d28e031a-5c77-4824-bfbe-43dbb5c9ce7c"
      },
      "execution_count": 38,
      "outputs": [
        {
          "output_type": "stream",
          "name": "stdout",
          "text": [
            "Original Orders (Order #, Price/Item, Quantity):\n",
            "(101, 15.5, 5)\n",
            "(102, 25.0, 4)\n",
            "(103, 50.0, 3)\n",
            "(104, 99.99, 1)\n",
            "(105, 10.0, 10)\n",
            "\n",
            "Processed Orders (Order #, Final Value):\n",
            "(101, 87.5)\n",
            "(102, 100.0)\n",
            "(103, 150.0)\n",
            "(104, 109.99)\n",
            "(105, 100.0)\n"
          ]
        }
      ]
    }
  ]
}