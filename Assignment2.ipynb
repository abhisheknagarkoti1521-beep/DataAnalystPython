{
  "nbformat": 4,
  "nbformat_minor": 0,
  "metadata": {
    "colab": {
      "provenance": []
    },
    "kernelspec": {
      "name": "python3",
      "display_name": "Python 3"
    },
    "language_info": {
      "name": "python"
    }
  },
  "cells": [
    {
      "cell_type": "markdown",
      "source": [
        "#THEORETICAL QUESTIONS\n",
        "1-What are data structures, and why are they important?\n",
        " - Data structure is like an organizer or container that holds and organize information in a specific arrangement, which in turn defines the relationship among data elements and the operations that can be performed on them.\n",
        " - Data structure is important because they are essential for efficient data management, better memory utilization, simplified problem solving, improved scalability and enhances problem solving skills.\n",
        "\n",
        " 2-  Explain the difference between mutable and immutable data types with examples?\n",
        " - Mutuable data types can be changed or modified after it has been created. When a mutuable object is altered its memory address remains the same. This means that if two variables point to the same mutuable object any changes made through one variable will be visible through the other.\n",
        " EXAMPLE :"
      ],
      "metadata": {
        "id": "1_FCJke_h1o-"
      }
    },
    {
      "cell_type": "markdown",
      "source": [],
      "metadata": {
        "id": "fLUAJGUgAqkD"
      }
    },
    {
      "cell_type": "code",
      "source": [
        "#Create a list\n",
        "my_list=[1,2,3]\n",
        "print(f\"Original list: {my_list}\")\n",
        "print(f\"Memory address (ID) of my_list: {id(my_list)}\")\n",
        "#Modify the list in-place\n",
        "my_list.append(4)\n",
        "print(f\"List after appending: {my_list}\")\n",
        "print(f\"Memory addresss (ID) of my_list : {id(my_list)}\") #the memory address will remail the same"
      ],
      "metadata": {
        "colab": {
          "base_uri": "https://localhost:8080/"
        },
        "id": "62Kx6ymhk60B",
        "outputId": "0e06850a-90d1-4f12-d10b-41c2528e587d"
      },
      "execution_count": null,
      "outputs": [
        {
          "output_type": "stream",
          "name": "stdout",
          "text": [
            "Original list: [1, 2, 3]\n",
            "Memory address (ID) of my_list: 132581015284736\n",
            "List after appending: [1, 2, 3, 4]\n",
            "Memory addresss (ID) of my_list : 132581015284736\n"
          ]
        }
      ]
    },
    {
      "cell_type": "markdown",
      "source": [
        "- Immutable data types cannot be changes or modifies after it has been created. Any operations that appears to modify an immutable object such as adding to it actually creates a new objects and a new memory address. EXAMPLE:"
      ],
      "metadata": {
        "id": "DuIDtfg1mChd"
      }
    },
    {
      "cell_type": "code",
      "execution_count": null,
      "metadata": {
        "colab": {
          "base_uri": "https://localhost:8080/"
        },
        "id": "kqaITLoahrBH",
        "outputId": "43a66970-1e35-4dd8-edcf-ceb681749958"
      },
      "outputs": [
        {
          "output_type": "stream",
          "name": "stdout",
          "text": [
            "Original tuple: (1, 2, 3)\n",
            "Memory address (ID) of my_tuple : 132580791884864\n",
            "Tuple after modification : (1, 2, 3, 4)\n",
            "Memory adress (ID) of new_tuple : 132581014850672\n"
          ]
        }
      ],
      "source": [
        "#create a tuple\n",
        "my_tuple=(1,2,3)\n",
        "print(f\"Original tuple: {my_tuple}\")\n",
        "print(f\"Memory address (ID) of my_tuple : {id(my_tuple)}\")\n",
        "#attempt to modify the tuple by concatination\n",
        "new_tuple= my_tuple + (4,)\n",
        "print(f\"Tuple after modification : {new_tuple}\")\n",
        "print(f\"Memory adress (ID) of new_tuple : {id(new_tuple)}\")"
      ]
    },
    {
      "cell_type": "markdown",
      "source": [
        "3-What are the main differences between lists and tuples in Python?\n",
        "- The main differences between Python lists and tuples are their mutability, syntax, performance, and use cases. Lists are mutable, meaning they can be changed after they are created, while tuples are immutable, meaning they cannot be modified.\n",
        "\n",
        "4-Describe how dictionaries store data?\n",
        "- A dictionary stores data as key-value pairs using a highly optimized hash table. This internal structure is responsible for the dictionary's speed, allowing for constant-time (O(1)) lookups, insertions, and deletions on average.\n",
        "- A dictionary maps unique, immutable keys to values. The hashing process :\n",
        " - Hashing the key: When you add a key-value pair, Python takes the key and passes it through a special function called a hash function. This function calculates an integer value, or \"hash,\" for the key.\n",
        "- Mapping to an index : The hash value is then mapped to an index within an internal array. This array is where Python stores the entries.\n",
        "- Storing the data : Each entry in the array holds a record of the hash, key, and value.\n",
        "- Retrieval: To look up a value, Python repeats the process: it hashes the key, finds the correct index in the internal array, and retrieves the corresponding value. Because it can jump directly to the right spot, the average lookup time is constant, or \\(O(1)\\).\n",
        "\n",
        "5-Why might you use a set instead of a list in Python ?\n",
        "- So basically i use a set when i need a collection of unique items and require fast membership testing or mathematical set operations, and when the order of elements is not important and Use a list when i need an ordered collection that can contain duplicate items and where element access by index is frequent.\n",
        "\n",
        "6-What is a string in Python, and how is it different from a list?\n",
        "- In Python, a string is an immutable, ordered sequence of characters, while a list is a mutable, ordered sequence that can hold items of different data types. Both are fundamental data structures, but their differing nature (specifically, mutability) makes them suitable for different tasks.\n",
        "\n",
        "7-How do tuples ensure data integrity in Python?\n",
        "- Tuples ensure data integrity because they are immutable, meaning their contents cannot be changed after creation. This prevents accidental or unintended modifications, ensuring that the data stored in a tuple remains constant and reliable throughout a program's execution.\n",
        "Key points :\n",
        "- Protection against change: Any attempt to modify, add, or remove an element from a tuple will raise a TypeError, safeguarding the data.\n",
        "- Predictable and reliable: Because the contents are guaranteed not to change, tuples make code more predictable and easier to debug.\n",
        "- Thread-safe: In multi-threaded programs, immutable tuples are inherently safe because multiple threads can access them without the risk of data corruption.\n",
        "- Enable dictionary keys: Their immutability allows them to be used as keys in dictionaries, which require hashable (unchangeable) objects.\n",
        "\n",
        "8-What is a hash table, and how does it relate to dictionaries in Python?\n",
        "- A hash table is a data structure that implements an associative array, also known as a dictionary or map. It stores data in key-value pairs, where each key is mapped to a specific memory location (or index in an array) using a hash function. This hash function takes the key as input and produces an integer value (the hash code), which is then used to determine the storage location of the corresponding value. The primary advantage of hash tables is their ability to provide very fast average-case time complexity for operations like insertion, deletion, and lookup (O(1)).\n",
        "- Python's built-in dictionaries (dict) are implemented using hash tables. When you create a dictionary and add key-value pairs, Python internally uses a hash table to store and retrieve this data efficiently.\n",
        "\n",
        "9-Can lists contain different data types in Python?\n",
        "- Yes, lists in Python can contain different data types. This is a key feature of Python lists, making them highly versatile for storing collections of diverse data.\n",
        "- For example, a single Python list can contain integers, strings, floats, booleans, and even other lists or complex objects like dictionaries.\n",
        "\n",
        "10-Explain why strings are immutable in Python?\n",
        "- In Python, strings are immutable. This means that once a string object is created, its contents cannot be changed. Operations that appear to modify a string, such as concatenation or replacement, create and return a new string object, while the original remains unchanged. This design offers advantages for memory management, performance, and security.\n",
        "\n",
        "11-What advantages do dictionaries offer over lists for certain tasks?\n",
        "- Dictionaries offer a significant advantage over lists by providing much faster data retrieval through unique keys, enabling constant-time O(1) lookups on average, which is ideal for large datasets or when data needs to be found based on a specific identifier rather than a position. Dictionaries are also better for associating related pieces of data through key-value pairs, making code more readable for certain tasks compared to storing pairs within a list.\n",
        "\n",
        "12-Describe a scenario where using a tuple would be preferable over a list?\n",
        "- A scenario where using a tuple would be preferable over a list is when representing data that should remain constant and unchanged throughout the program's execution, such as geographic coordinates or RGB color values.\n",
        "- Consider a program that needs to store and process a collection of fixed geographical locations, each represented by a latitude and longitude."
      ],
      "metadata": {
        "id": "H5YEmyA4Asf0"
      }
    },
    {
      "cell_type": "code",
      "source": [
        "user = (101, \"Alice\", \"Smith\")\n",
        "\n",
        "\n",
        "try:\n",
        "    user[1] = \"Alicia\"\n",
        "except TypeError as e:\n",
        "    print(e)\n"
      ],
      "metadata": {
        "colab": {
          "base_uri": "https://localhost:8080/"
        },
        "id": "Cx1e9ziZHRjq",
        "outputId": "480334c0-a66d-43c7-bacc-fde8bdd67af1"
      },
      "execution_count": null,
      "outputs": [
        {
          "output_type": "stream",
          "name": "stdout",
          "text": [
            "'tuple' object does not support item assignment\n"
          ]
        }
      ]
    },
    {
      "cell_type": "markdown",
      "source": [
        "13-How do sets handle duplicate values in Python?\n",
        "- Python set objects are inherently designed to store only unique elements. They do not allow duplicate values. When you attempt to add a duplicate value to a set, the set simply ignores the addition; it does not raise an error, nor does it store the duplicate. The element already present in the set remains, and the new, identical element is not added.\n",
        "- This behavior is a core characteristic of sets and is what makes them useful for operations like removing duplicates from a list or performing mathematical set operations such as union, intersection, and difference, where uniqueness of elements is fundamental.\n",
        "\n",
        "14- How does the “in” keyword work differently for lists and dictionaries?\n",
        "- The in keyword in Python functions differently when used with lists and dictionaries due to their underlying data structures and how they store and retrieve data.\n",
        "Lists:\n",
        "- When in is used with a list, it checks for the presence of a specific element within the list.\n",
        "- This check involves a linear search, meaning Python iterates through each item in the list sequentially until a match is found or the end of the list is reached.\n",
        "- The time complexity of this operation is O(n) in the worst case, where 'n' is the number of elements in the list.\n",
        "- EXAMPLE :"
      ],
      "metadata": {
        "id": "LmRByXhpHprQ"
      }
    },
    {
      "cell_type": "code",
      "source": [
        "my_list = [10, 20, 30, 40, 50]\n",
        "print(20 in my_list)\n",
        "print(60 in my_list)"
      ],
      "metadata": {
        "colab": {
          "base_uri": "https://localhost:8080/"
        },
        "id": "XtX5v1k9IbCv",
        "outputId": "caf5958e-0dfa-49fc-a26b-05cc97b1a070"
      },
      "execution_count": null,
      "outputs": [
        {
          "output_type": "stream",
          "name": "stdout",
          "text": [
            "True\n",
            "False\n"
          ]
        }
      ]
    },
    {
      "cell_type": "markdown",
      "source": [
        "Dictionaries:\n",
        "- When in is used with a dictionary, it checks for the presence of a specific key within the dictionary. It does not directly check for values.\n",
        "Dictionaries are implemented using hash tables, which allow for very efficient lookups.\n",
        "- When checking for a key, Python hashes the key and uses the resulting hash value to quickly locate the corresponding bucket in the hash table.\n",
        "The time complexity of this operation is, on average, O(1) (constant time), making it significantly faster than list lookups for large collections.\n",
        "- EXAMPLE :"
      ],
      "metadata": {
        "id": "A92NptsiIpK1"
      }
    },
    {
      "cell_type": "code",
      "source": [
        "my_dict = {\"apple\": 1, \"banana\": 2, \"cherry\": 3}\n",
        "print(\"banana\" in my_dict)\n",
        "print(1 in my_dict)\n",
        "print(\"grape\" in my_dict)"
      ],
      "metadata": {
        "colab": {
          "base_uri": "https://localhost:8080/"
        },
        "id": "iMjk4dwfIznV",
        "outputId": "4b65d500-2685-42d5-db07-a465adc6fc9c"
      },
      "execution_count": null,
      "outputs": [
        {
          "output_type": "stream",
          "name": "stdout",
          "text": [
            "True\n",
            "False\n",
            "False\n"
          ]
        }
      ]
    },
    {
      "cell_type": "markdown",
      "source": [
        "15-Can you modify the elements of a tuple? Explain why or why not?\n",
        "- No, the elements of a tuple cannot be modified directly after its creation. This is because tuples are immutable data structures in Python.\n",
        "Explanation:\n",
        "- Immutability: Immutability means that once a tuple is defined and its elements are set, its contents cannot be changed, added, or removed. Attempting to modify an element directly, like my_tuple[0] = new_value, will result in a TypeError.\n",
        "- Contrast with Lists: This immutability is a key distinction between tuples and lists. Lists are mutable, meaning their elements can be modified, added, or removed after creation.\n",
        "- Workaround: While you cannot directly modify a tuple, you can achieve a similar outcome by creating a new tuple with the desired changes. A common method involves converting the tuple to a list, performing the modifications on the list, and then converting the list back into a new tuple.\n",
        "\n",
        "16-What is a nested dictionary, and give an example of its use case?\n",
        "- A nested dictionary is a dictionary where the values associated with some keys are themselves other dictionaries. This structure allows for the representation of hierarchical or complex data, similar to how records or structs are used in other programming languages.\n",
        "Example of its use case:\n",
        "- Consider storing information about multiple employees, where each employee has various attributes like name, age, and department, and the department itself has a manager. A nested dictionary can effectively model this:"
      ],
      "metadata": {
        "id": "SSjPruGhI8V9"
      }
    },
    {
      "cell_type": "code",
      "source": [
        "employees = {\n",
        "    \"employee_id_1\": {\n",
        "        \"name\": \"Alice Smith\",\n",
        "        \"age\": 30,\n",
        "        \"department\": {\n",
        "            \"name\": \"Human Resources\",\n",
        "            \"manager\": \"Bob Johnson\"\n",
        "        }\n",
        "    },\n",
        "    \"employee_id_2\": {\n",
        "        \"name\": \"Charlie Brown\",\n",
        "        \"age\": 25,\n",
        "        \"department\": {\n",
        "            \"name\": \"Engineering\",\n",
        "            \"manager\": \"Diana Prince\"\n",
        "        }\n",
        "    }\n",
        "}\n",
        "print(employees[\"employee_id_1\"][\"name\"])\n",
        "print(employees[\"employee_id_2\"][\"department\"][\"manager\"])"
      ],
      "metadata": {
        "colab": {
          "base_uri": "https://localhost:8080/"
        },
        "id": "eiXpkXUsYkQ9",
        "outputId": "b5e83b86-685f-4b07-b757-466a5fc644a0"
      },
      "execution_count": null,
      "outputs": [
        {
          "output_type": "stream",
          "name": "stdout",
          "text": [
            "Alice Smith\n",
            "Diana Prince\n"
          ]
        }
      ]
    },
    {
      "cell_type": "markdown",
      "source": [
        "17-Describe the time complexity of accessing elements in a dictionary?\n",
        "- For dictionaries, the average time complexity for accessing an element is O(1) (constant time). This is because dictionaries are implemented using a hash table, which allows for a direct, very fast lookup of a key's memory location.In the worst-case scenario, the time complexity can become O(n) (linear time), where \\(n\\) is the number of elements. This happens when many keys have a \"hash collision,\" meaning they are directed to the same memory location, forcing the dictionary to search through a list of stored elements. However, this is very rare with good hash functions.\n",
        "\n",
        "18-In what situations are lists preferred over dictionaries?\n",
        "- Lists are generally preferred over dictionaries in situations where the data's order is important, when sequential processing is needed, or when the dataset is simple and access is primarily by index. While dictionaries are faster for key-based lookups, lists excel in other areas.\n",
        "\n",
        "19-Why are dictionaries considered unordered, and how does that affect data retrieval?\n",
        "- Dictionaries are considered \"unordered\" because they do not guarantee a specific, predictable sequence for their elements, and instead, they are optimized for fast retrieval of values based on their associated keys, not their position.\n",
        "- This fundamental characteristic means that data retrieval relies entirely on key-based access; you must know the key to find its value. This contrasts with ordered collections like lists, where elements can be accessed by their numerical index.\n",
        "\n",
        "20-Explain the difference between a list and a dictionary in terms of data retrieval?\n",
        "- Lists (Indexed Retrieval):\n",
        "Lists are ordered collections where elements are stored in a specific sequence.\n",
        "Data retrieval relies on integer-based indexing, starting from 0 for the first element.\n",
        "To access an element, its numerical position (index) within the list is specified.\n",
        "Retrieval time can be linear (O(n)) in the worst case for searching for a specific value, as the list might need to be traversed sequentially. Accessing an element by its index is typically constant time (O(1)).\n",
        "- Dictionaries (Key-Based Retrieval):\n",
        "Dictionaries are unordered collections of key-value pairs, where each unique key maps to a specific value.\n",
        "Data retrieval relies on key-based lookup.\n",
        "To access a value, its associated unique key is provided.\n",
        "Retrieval time is typically constant on average (O(1)) due to the use of hash tables, allowing for very fast lookups based on the key.\n"
      ],
      "metadata": {
        "id": "N1LhzbzWZHLr"
      }
    },
    {
      "cell_type": "markdown",
      "source": [
        "#CODING QUESTIONS\n",
        "1-Write a code to create a string with your name and print it?"
      ],
      "metadata": {
        "id": "_av-vuZxcAPX"
      }
    },
    {
      "cell_type": "code",
      "source": [
        "# Create a string variable\n",
        "name = \"Abhishek Singh Nagarkoti\"\n",
        "\n",
        "# Print the string variable\n",
        "print(name)\n",
        "\n",
        "\n"
      ],
      "metadata": {
        "colab": {
          "base_uri": "https://localhost:8080/"
        },
        "id": "tAHXRVascNkz",
        "outputId": "40a169d7-d058-430e-a401-482a3f39ee3e"
      },
      "execution_count": null,
      "outputs": [
        {
          "output_type": "stream",
          "name": "stdout",
          "text": [
            "Abhishek Singh Nagarkoti\n"
          ]
        }
      ]
    },
    {
      "cell_type": "markdown",
      "source": [
        "2-Write a code to find the length of the string \"Hello World\""
      ],
      "metadata": {
        "id": "pNSUBn_Kcf40"
      }
    },
    {
      "cell_type": "code",
      "source": [
        "my_string = \"Hello World\"\n",
        "length = len(my_string)\n",
        "print(length)\n"
      ],
      "metadata": {
        "colab": {
          "base_uri": "https://localhost:8080/"
        },
        "id": "DAAZZVfncoes",
        "outputId": "586cc6fe-f663-4ab3-b39a-cdab87083291"
      },
      "execution_count": null,
      "outputs": [
        {
          "output_type": "stream",
          "name": "stdout",
          "text": [
            "11\n"
          ]
        }
      ]
    },
    {
      "cell_type": "markdown",
      "source": [
        "3-Write a code to slice the first 3 characters from the string \"Python Programming\""
      ],
      "metadata": {
        "id": "S7T6pYLjdCzW"
      }
    },
    {
      "cell_type": "code",
      "source": [
        "my_string = \"Python Programming\"\n",
        "first_three = my_string[:3]\n",
        "print(first_three)\n"
      ],
      "metadata": {
        "colab": {
          "base_uri": "https://localhost:8080/"
        },
        "id": "Mv5o3mNadKmO",
        "outputId": "8f1158aa-2af5-4787-af4c-3dc16f85202d"
      },
      "execution_count": null,
      "outputs": [
        {
          "output_type": "stream",
          "name": "stdout",
          "text": [
            "Pyt\n"
          ]
        }
      ]
    },
    {
      "cell_type": "markdown",
      "source": [
        "4-Write a code to convert the string \"hello\" to uppercase\n"
      ],
      "metadata": {
        "id": "Ke_j5miZdNPy"
      }
    },
    {
      "cell_type": "code",
      "source": [
        "my_string = \"hello\"\n",
        "uppercase_string = my_string.upper()\n",
        "print(uppercase_string)\n"
      ],
      "metadata": {
        "colab": {
          "base_uri": "https://localhost:8080/"
        },
        "id": "ojVSVDLeel0m",
        "outputId": "2ecc0d28-4a30-497f-c9e9-8c96ee97018d"
      },
      "execution_count": null,
      "outputs": [
        {
          "output_type": "stream",
          "name": "stdout",
          "text": [
            "HELLO\n"
          ]
        }
      ]
    },
    {
      "cell_type": "markdown",
      "source": [
        "5-Write a code to replace the word \"apple\" with \"orange\" in the string \"I like apple\""
      ],
      "metadata": {
        "id": "YL0jRxhOeoJR"
      }
    },
    {
      "cell_type": "code",
      "source": [
        "my_string = \"I like apple\"\n",
        "new_string = my_string.replace(\"apple\", \"orange\")\n",
        "print(new_string)\n"
      ],
      "metadata": {
        "colab": {
          "base_uri": "https://localhost:8080/"
        },
        "id": "0-av4vV_esx7",
        "outputId": "cbe3ba5b-3cdc-4bbd-91d0-c04ff67db725"
      },
      "execution_count": null,
      "outputs": [
        {
          "output_type": "stream",
          "name": "stdout",
          "text": [
            "I like orange\n"
          ]
        }
      ]
    },
    {
      "cell_type": "markdown",
      "source": [
        "6-Write a code to create a list with numbers 1 to 5 and print it"
      ],
      "metadata": {
        "id": "fFgWe8xwezme"
      }
    },
    {
      "cell_type": "code",
      "source": [
        "\n",
        "my_list = [1, 2, 3, 4, 5]\n",
        "print(my_list)\n"
      ],
      "metadata": {
        "colab": {
          "base_uri": "https://localhost:8080/"
        },
        "id": "FTo9PO8ge96X",
        "outputId": "06e09220-2cc1-4fc2-c6a7-015883cc1f96"
      },
      "execution_count": null,
      "outputs": [
        {
          "output_type": "stream",
          "name": "stdout",
          "text": [
            "[1, 2, 3, 4, 5]\n"
          ]
        }
      ]
    },
    {
      "cell_type": "markdown",
      "source": [
        "7- Write a code to append the number 10 to the list [1, 2, 3, 4]"
      ],
      "metadata": {
        "id": "kq6Ygj5nfD7o"
      }
    },
    {
      "cell_type": "code",
      "source": [
        "my_list = [1, 2, 3, 4]\n",
        "my_list.append(10)\n",
        "print(my_list)\n"
      ],
      "metadata": {
        "colab": {
          "base_uri": "https://localhost:8080/"
        },
        "id": "1NFIpn7TfJ4D",
        "outputId": "42fa14bd-77e7-41a2-ebef-cda3d8b409fa"
      },
      "execution_count": null,
      "outputs": [
        {
          "output_type": "stream",
          "name": "stdout",
          "text": [
            "[1, 2, 3, 4, 10]\n"
          ]
        }
      ]
    },
    {
      "cell_type": "markdown",
      "source": [
        "8-Write a code to remove the number 3 from the list [1, 2, 3, 4, 5]"
      ],
      "metadata": {
        "id": "No1K4iJffXhr"
      }
    },
    {
      "cell_type": "code",
      "source": [
        "my_list = [1, 2, 3, 4, 5]\n",
        "my_list.remove(3)\n",
        "print(my_list)\n"
      ],
      "metadata": {
        "colab": {
          "base_uri": "https://localhost:8080/"
        },
        "id": "PAZUDrAafZaO",
        "outputId": "d9ee25c3-3083-4e60-b548-257b14fdd82a"
      },
      "execution_count": null,
      "outputs": [
        {
          "output_type": "stream",
          "name": "stdout",
          "text": [
            "[1, 2, 4, 5]\n"
          ]
        }
      ]
    },
    {
      "cell_type": "markdown",
      "source": [
        "9-Write a code to access the second element in the list ['a', 'b', 'c', 'd']"
      ],
      "metadata": {
        "id": "u6ACGjZrfeCI"
      }
    },
    {
      "cell_type": "code",
      "source": [
        "my_list = ['a', 'b', 'c', 'd']\n",
        "second_element = my_list[1]\n",
        "print(second_element)\n"
      ],
      "metadata": {
        "colab": {
          "base_uri": "https://localhost:8080/"
        },
        "id": "XHw2XNJJfn0F",
        "outputId": "a914e036-5d58-4e29-cc7d-46da8e17a850"
      },
      "execution_count": null,
      "outputs": [
        {
          "output_type": "stream",
          "name": "stdout",
          "text": [
            "b\n"
          ]
        }
      ]
    },
    {
      "cell_type": "markdown",
      "source": [
        "10-Write a code to reverse the list [10, 20, 30, 40, 50]."
      ],
      "metadata": {
        "id": "J49wQZwVfp6b"
      }
    },
    {
      "cell_type": "code",
      "source": [
        "my_list = [10, 20, 30, 40, 50]\n",
        "my_list.reverse()\n",
        "print(my_list)\n"
      ],
      "metadata": {
        "colab": {
          "base_uri": "https://localhost:8080/"
        },
        "id": "APqGbWcAfwjq",
        "outputId": "350c5d38-6730-43b0-c986-8d3819784f51"
      },
      "execution_count": null,
      "outputs": [
        {
          "output_type": "stream",
          "name": "stdout",
          "text": [
            "[50, 40, 30, 20, 10]\n"
          ]
        }
      ]
    },
    {
      "cell_type": "markdown",
      "source": [
        "11-Write a code to create a tuple with the elements 100, 200, 300 and print it"
      ],
      "metadata": {
        "id": "N0KFdqE2fyrs"
      }
    },
    {
      "cell_type": "code",
      "source": [
        "my_tuple = (100, 200, 300)\n",
        "print(my_tuple)\n"
      ],
      "metadata": {
        "colab": {
          "base_uri": "https://localhost:8080/"
        },
        "id": "owvZo-i0f4dr",
        "outputId": "8e976308-9e25-45ad-e7b1-bae22f0254b7"
      },
      "execution_count": null,
      "outputs": [
        {
          "output_type": "stream",
          "name": "stdout",
          "text": [
            "(100, 200, 300)\n"
          ]
        }
      ]
    },
    {
      "cell_type": "markdown",
      "source": [
        "12-Write a code to access the second-to-last element of the tuple ('red', 'green', 'blue', 'yellow')"
      ],
      "metadata": {
        "id": "pktC16SJgAaD"
      }
    },
    {
      "cell_type": "code",
      "source": [
        "my_tuple = ('red', 'green', 'blue', 'yellow')\n",
        "second_to_last = my_tuple[-2]\n",
        "print(second_to_last)\n"
      ],
      "metadata": {
        "colab": {
          "base_uri": "https://localhost:8080/"
        },
        "id": "8o6pdhXagERU",
        "outputId": "75123196-2155-49ed-a723-a8822f6079d4"
      },
      "execution_count": null,
      "outputs": [
        {
          "output_type": "stream",
          "name": "stdout",
          "text": [
            "blue\n"
          ]
        }
      ]
    },
    {
      "cell_type": "markdown",
      "source": [
        "13-Write a code to find the minimum number in the tuple (10, 20, 5, 15)."
      ],
      "metadata": {
        "id": "LV5liHGUgNr9"
      }
    },
    {
      "cell_type": "code",
      "source": [
        "my_tuple = (10, 20, 5, 15)\n",
        "min_number = min(my_tuple)\n",
        "print(min_number)\n"
      ],
      "metadata": {
        "colab": {
          "base_uri": "https://localhost:8080/"
        },
        "id": "IUrjNT0OgPCs",
        "outputId": "f600fda1-4945-4aba-92cb-0381d5f0e161"
      },
      "execution_count": null,
      "outputs": [
        {
          "output_type": "stream",
          "name": "stdout",
          "text": [
            "5\n"
          ]
        }
      ]
    },
    {
      "cell_type": "markdown",
      "source": [
        "14-Write a code to find the index of the element \"cat\" in the tuple ('dog', 'cat', 'rabbit')."
      ],
      "metadata": {
        "id": "0lct0AdPgV2S"
      }
    },
    {
      "cell_type": "code",
      "source": [
        "my_tuple = ('dog', 'cat', 'rabbit')\n",
        "index_of_cat = my_tuple.index('cat')\n",
        "print(index_of_cat)\n"
      ],
      "metadata": {
        "colab": {
          "base_uri": "https://localhost:8080/"
        },
        "id": "6SgimPfmgZ1Z",
        "outputId": "9b3f3cbd-933d-49c5-a854-935780532286"
      },
      "execution_count": null,
      "outputs": [
        {
          "output_type": "stream",
          "name": "stdout",
          "text": [
            "1\n"
          ]
        }
      ]
    },
    {
      "cell_type": "markdown",
      "source": [
        "15-Write a code to create a tuple containing three different fruits and check if \"kiwi\" is in it"
      ],
      "metadata": {
        "id": "dikNrjZvgbx1"
      }
    },
    {
      "cell_type": "code",
      "source": [
        "fruits = ('apple', 'banana', 'cherry')\n",
        "if \"kiwi\" in fruits:\n",
        "    print(\"kiwi is in the tuple.\")\n",
        "else:\n",
        "    print(\"kiwi is not in the tuple.\")\n"
      ],
      "metadata": {
        "colab": {
          "base_uri": "https://localhost:8080/"
        },
        "id": "LEuyFffbgfMj",
        "outputId": "7e98f931-70b9-4830-df34-2451c756fad3"
      },
      "execution_count": null,
      "outputs": [
        {
          "output_type": "stream",
          "name": "stdout",
          "text": [
            "kiwi is not in the tuple.\n"
          ]
        }
      ]
    },
    {
      "cell_type": "markdown",
      "source": [
        "16-Write a code to create a set with the elements 'a', 'b', 'c' and print it."
      ],
      "metadata": {
        "id": "5KzRpcfBgoh4"
      }
    },
    {
      "cell_type": "code",
      "source": [
        "my_set = {'a', 'b', 'c'}\n",
        "print(my_set)\n",
        "\n"
      ],
      "metadata": {
        "colab": {
          "base_uri": "https://localhost:8080/"
        },
        "id": "Z7bq0GTjgr2C",
        "outputId": "638c8b54-63af-4670-d9c4-5e2b26b9d4d2"
      },
      "execution_count": null,
      "outputs": [
        {
          "output_type": "stream",
          "name": "stdout",
          "text": [
            "{'a', 'b', 'c'}\n"
          ]
        }
      ]
    },
    {
      "cell_type": "markdown",
      "source": [
        "17-Write a code to clear all elements from the set {1, 2, 3, 4, 5}."
      ],
      "metadata": {
        "id": "p4Imll-pg-q_"
      }
    },
    {
      "cell_type": "code",
      "source": [
        "my_set = {1, 2, 3, 4, 5}\n",
        "print(f\"Original set: {my_set}\")\n",
        "\n",
        "my_set.clear()\n",
        "print(f\"Set after clearing: {my_set}\")\n"
      ],
      "metadata": {
        "colab": {
          "base_uri": "https://localhost:8080/"
        },
        "id": "hCQbqRXxhCMs",
        "outputId": "98979450-3aae-4e4c-e941-b3512aae05bf"
      },
      "execution_count": null,
      "outputs": [
        {
          "output_type": "stream",
          "name": "stdout",
          "text": [
            "Original set: {1, 2, 3, 4, 5}\n",
            "Set after clearing: set()\n"
          ]
        }
      ]
    },
    {
      "cell_type": "markdown",
      "source": [
        "18-Write a code to remove the element 4 from the set {1, 2, 3, 4}."
      ],
      "metadata": {
        "id": "m9gIlz0mhJPQ"
      }
    },
    {
      "cell_type": "code",
      "source": [
        "my_set = {1, 2, 3, 4}\n",
        "my_set.discard(4)\n",
        "print(my_set)\n"
      ],
      "metadata": {
        "colab": {
          "base_uri": "https://localhost:8080/"
        },
        "id": "W-72IvfWhKUy",
        "outputId": "ac413093-f0bc-4b1e-b876-4c6298ad0f3d"
      },
      "execution_count": null,
      "outputs": [
        {
          "output_type": "stream",
          "name": "stdout",
          "text": [
            "{1, 2, 3}\n"
          ]
        }
      ]
    },
    {
      "cell_type": "markdown",
      "source": [
        "19-Write a code to find the union of two sets {1, 2, 3} and {3, 4, 5}."
      ],
      "metadata": {
        "id": "dlVu1EfVhOce"
      }
    },
    {
      "cell_type": "code",
      "source": [
        "set1 = {1, 2, 3}\n",
        "set2 = {3, 4, 5}\n",
        "union_set = set1 | set2\n",
        "print(union_set)\n"
      ],
      "metadata": {
        "colab": {
          "base_uri": "https://localhost:8080/"
        },
        "id": "1QeV3XkAhRzo",
        "outputId": "cbd343e0-58ca-4999-c131-d7be5af353ac"
      },
      "execution_count": null,
      "outputs": [
        {
          "output_type": "stream",
          "name": "stdout",
          "text": [
            "{1, 2, 3, 4, 5}\n"
          ]
        }
      ]
    },
    {
      "cell_type": "markdown",
      "source": [
        "20-Write a code to find the intersection of two sets {1, 2, 3} and {2, 3, 4}."
      ],
      "metadata": {
        "id": "oIBFmcMZhXzF"
      }
    },
    {
      "cell_type": "code",
      "source": [
        "set1 = {1, 2, 3}\n",
        "set2 = {2, 3, 4}\n",
        "intersection_set = set1 & set2\n",
        "print(intersection_set)\n"
      ],
      "metadata": {
        "colab": {
          "base_uri": "https://localhost:8080/"
        },
        "id": "brQzVegZhZvF",
        "outputId": "d77b2623-a0cc-4f7c-9580-e0e6dbaab952"
      },
      "execution_count": null,
      "outputs": [
        {
          "output_type": "stream",
          "name": "stdout",
          "text": [
            "{2, 3}\n"
          ]
        }
      ]
    },
    {
      "cell_type": "markdown",
      "source": [
        "21-Write a code to create a dictionary with the keys \"name\", \"age\", and \"city\", and print it."
      ],
      "metadata": {
        "id": "Rxun_a_nhfrL"
      }
    },
    {
      "cell_type": "code",
      "source": [
        "my_dict = {\n",
        "    \"name\": \"Alice\",\n",
        "    \"age\": 30,\n",
        "    \"city\": \"New York\"\n",
        "}\n",
        "print(my_dict)\n"
      ],
      "metadata": {
        "colab": {
          "base_uri": "https://localhost:8080/"
        },
        "id": "UeJIohMthjgg",
        "outputId": "95ce10db-2e52-4fd9-b5d9-cf2c973fad92"
      },
      "execution_count": null,
      "outputs": [
        {
          "output_type": "stream",
          "name": "stdout",
          "text": [
            "{'name': 'Alice', 'age': 30, 'city': 'New York'}\n"
          ]
        }
      ]
    },
    {
      "cell_type": "markdown",
      "source": [
        "22-Write a code to add a new key-value pair \"country\": \"USA\" to the dictionary {'name': 'John', 'age': 25}."
      ],
      "metadata": {
        "id": "V4W4lqgAhqwk"
      }
    },
    {
      "cell_type": "code",
      "source": [
        "my_dict = {'name': 'John', 'age': 25}\n",
        "my_dict['country'] = 'USA'\n",
        "\n",
        "print(my_dict)\n"
      ],
      "metadata": {
        "colab": {
          "base_uri": "https://localhost:8080/"
        },
        "id": "2Gqp74rBhuYB",
        "outputId": "2f7147b0-0335-4a48-b657-f530c98a3aea"
      },
      "execution_count": null,
      "outputs": [
        {
          "output_type": "stream",
          "name": "stdout",
          "text": [
            "{'name': 'John', 'age': 25, 'country': 'USA'}\n"
          ]
        }
      ]
    },
    {
      "cell_type": "markdown",
      "source": [
        "23-Write a code to access the value associated with the key \"name\" in the dictionary {'name': 'Alice', 'age': 30}."
      ],
      "metadata": {
        "id": "S5IjlNjBhzKy"
      }
    },
    {
      "cell_type": "code",
      "source": [
        "my_dict = {'name': 'Alice', 'age': 30}\n",
        "\n",
        "name_value = my_dict['name']\n",
        "print(name_value)\n"
      ],
      "metadata": {
        "colab": {
          "base_uri": "https://localhost:8080/"
        },
        "id": "VLGRFYDKh3ca",
        "outputId": "8a273ebf-a5d1-4d82-9e45-708f32469e30"
      },
      "execution_count": null,
      "outputs": [
        {
          "output_type": "stream",
          "name": "stdout",
          "text": [
            "Alice\n"
          ]
        }
      ]
    },
    {
      "cell_type": "markdown",
      "source": [
        "24-Write a code to remove the key \"age\" from the dictionary {'name': 'Bob', 'age': 22, 'city': 'New York'}."
      ],
      "metadata": {
        "id": "yFACoQmMiAie"
      }
    },
    {
      "cell_type": "code",
      "source": [
        "my_dict = {'name': 'Bob', 'age': 22, 'city': 'New York'}\n",
        "del my_dict['age']\n",
        "print(my_dict)\n"
      ],
      "metadata": {
        "colab": {
          "base_uri": "https://localhost:8080/"
        },
        "id": "UIMysxWHiFkF",
        "outputId": "c7b47494-3242-476e-a3a7-d18f93e35d51"
      },
      "execution_count": null,
      "outputs": [
        {
          "output_type": "stream",
          "name": "stdout",
          "text": [
            "{'name': 'Bob', 'city': 'New York'}\n"
          ]
        }
      ]
    },
    {
      "cell_type": "markdown",
      "source": [
        "25-Write a code to check if the key \"city\" exists in the dictionary {'name': 'Alice', 'city': 'Paris'}."
      ],
      "metadata": {
        "id": "ZCYVXyu5iLqi"
      }
    },
    {
      "cell_type": "code",
      "source": [
        "my_dict = {'name': 'Alice', 'city': 'Paris'}\n",
        "\n",
        "if 'city' in my_dict:\n",
        "    print(\"The key 'city' exists in the dictionary.\")\n",
        "else:\n",
        "    print(\"The key 'city' does not exist in the dictionary.\")\n"
      ],
      "metadata": {
        "colab": {
          "base_uri": "https://localhost:8080/"
        },
        "id": "_APVxc_ciNPu",
        "outputId": "72fd5238-4470-416d-f6df-23dd7190148e"
      },
      "execution_count": null,
      "outputs": [
        {
          "output_type": "stream",
          "name": "stdout",
          "text": [
            "The key 'city' exists in the dictionary.\n"
          ]
        }
      ]
    },
    {
      "cell_type": "markdown",
      "source": [
        "26- Write a code to create a list, a tuple, and a dictionary, and print them all"
      ],
      "metadata": {
        "id": "TIphwolKiVoB"
      }
    },
    {
      "cell_type": "code",
      "source": [
        "my_list = [10, 20, 30]\n",
        "my_tuple = (\"apple\", \"banana\", \"cherry\")\n",
        "my_dict = {\n",
        "    \"name\": \"Alice\",\n",
        "    \"age\": 30,\n",
        "    \"city\": \"New York\"\n",
        "}\n",
        "print(\"List:\", my_list)\n",
        "print(\"Tuple:\", my_tuple)\n",
        "print(\"Dictionary:\", my_dict)\n"
      ],
      "metadata": {
        "colab": {
          "base_uri": "https://localhost:8080/"
        },
        "id": "tuFXH8QdiXus",
        "outputId": "a570bd3c-fd5a-4fcf-daf3-32e22440a0f9"
      },
      "execution_count": null,
      "outputs": [
        {
          "output_type": "stream",
          "name": "stdout",
          "text": [
            "List: [10, 20, 30]\n",
            "Tuple: ('apple', 'banana', 'cherry')\n",
            "Dictionary: {'name': 'Alice', 'age': 30, 'city': 'New York'}\n"
          ]
        }
      ]
    },
    {
      "cell_type": "markdown",
      "source": [
        "27-Write a code to create a list of 5 random numbers between 1 and 100, sort it in ascending order, and print the\n",
        "result.(replaced)"
      ],
      "metadata": {
        "id": "_n7qqSAuijrI"
      }
    },
    {
      "cell_type": "code",
      "source": [
        "import random\n",
        "random_list = random.sample(range(1, 101), 5)\n",
        "random_list.sort()\n",
        "print(random_list)\n"
      ],
      "metadata": {
        "colab": {
          "base_uri": "https://localhost:8080/"
        },
        "id": "EhFEOSoPinB_",
        "outputId": "2e851546-8ea4-4fcb-97b0-c0a60cbb8a91"
      },
      "execution_count": null,
      "outputs": [
        {
          "output_type": "stream",
          "name": "stdout",
          "text": [
            "[8, 18, 23, 80, 91]\n"
          ]
        }
      ]
    },
    {
      "cell_type": "markdown",
      "source": [
        "28- Write a code to create a list with strings and print the element at the third index."
      ],
      "metadata": {
        "id": "zDd5ejN0ivfO"
      }
    },
    {
      "cell_type": "code",
      "source": [
        "my_list = [\"apple\", \"banana\", \"cherry\", \"date\"]\n",
        "print(my_list[2])\n"
      ],
      "metadata": {
        "colab": {
          "base_uri": "https://localhost:8080/"
        },
        "id": "BUmjAXikiyol",
        "outputId": "75ff2086-f417-4401-e431-b46d101048e4"
      },
      "execution_count": null,
      "outputs": [
        {
          "output_type": "stream",
          "name": "stdout",
          "text": [
            "cherry\n"
          ]
        }
      ]
    },
    {
      "cell_type": "markdown",
      "source": [
        "29-Write a code to combine two dictionaries into one and print the result."
      ],
      "metadata": {
        "id": "gVwJ0m_si6Lv"
      }
    },
    {
      "cell_type": "code",
      "source": [
        "dict1 = {'a': 1, 'b': 2}\n",
        "dict2 = {'c': 3, 'd': 4}\n",
        "\n",
        "merged_dict = dict1 | dict2\n",
        "print(merged_dict)\n"
      ],
      "metadata": {
        "colab": {
          "base_uri": "https://localhost:8080/"
        },
        "id": "8CcYv6c8i8-k",
        "outputId": "a495ee7e-1aaa-4b09-b927-7292bab7a142"
      },
      "execution_count": null,
      "outputs": [
        {
          "output_type": "stream",
          "name": "stdout",
          "text": [
            "{'a': 1, 'b': 2, 'c': 3, 'd': 4}\n"
          ]
        }
      ]
    },
    {
      "cell_type": "markdown",
      "source": [
        "30-Write a code to convert a list of strings into a set."
      ],
      "metadata": {
        "id": "SbFa-jzvjDiV"
      }
    },
    {
      "cell_type": "code",
      "source": [
        "my_list = [\"apple\", \"banana\", \"apple\", \"cherry\"]\n",
        "my_set = set(my_list)\n",
        "print(my_set)\n"
      ],
      "metadata": {
        "colab": {
          "base_uri": "https://localhost:8080/"
        },
        "id": "m_rWChs9jFLb",
        "outputId": "c7d7acdc-5afb-41a1-eb30-c6ecef5af391"
      },
      "execution_count": null,
      "outputs": [
        {
          "output_type": "stream",
          "name": "stdout",
          "text": [
            "{'banana', 'apple', 'cherry'}\n"
          ]
        }
      ]
    }
  ]
}