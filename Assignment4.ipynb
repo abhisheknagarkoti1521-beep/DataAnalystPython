{
  "nbformat": 4,
  "nbformat_minor": 0,
  "metadata": {
    "colab": {
      "provenance": []
    },
    "kernelspec": {
      "name": "python3",
      "display_name": "Python 3"
    },
    "language_info": {
      "name": "python"
    }
  },
  "cells": [
    {
      "cell_type": "markdown",
      "source": [
        "#THEORETICAL QUESTIONS\n",
        "1-What is Object-Oriented Programming (OOP)?\n",
        "- Object-Oriented Programming (OOP) is a programming paradigm that models software as a collection of interacting objects, which are instances of classes that combine data (properties) and the functions (methods) that operate on that data. OOP promotes modular, reusable, and maintainable code by using core principles like Encapsulation, Abstraction, Inheritance, and Polymorphism.\n",
        "\n",
        "2-What is a class in OOP?\n",
        "- A class is a blueprint or template in Object-Oriented Programming (OOP) for creating objects. It provides a clear, reusable structure for defining the common properties (attributes) and behaviors (methods) that all objects of a certain type will possess.\n",
        "\n",
        "3-What is an object in OOP?\n",
        "- In Object-Oriented Programming (OOP), an object is an instance of a class. While a class serves as a blueprint or template, an object is a concrete, real-world entity created from that blueprint that exists in memory.\n",
        "\n",
        "- An object bundles together data (called attributes or properties) and behavior (called methods) into a single, self-contained unit.\n",
        "\n",
        "4-What is the difference between abstraction and encapsulation?\n",
        "\n",
        "- Abstraction:\n",
        "Abstraction is a design-level concept that focuses on hiding complex implementation details and showing only the essential features of an object. The goal is to simplify a complex system by presenting a clean, high-level interface to the user.\n",
        "\n",
        "- Encapsulation:\n",
        "Encapsulation is an implementation-level mechanism that bundles an object's data (attributes) and the methods that operate on that data into a single unit, typically a class. Its primary goal is to protect the object's internal state from unintended or unauthorized access.\n",
        "\n",
        "5-What are dunder methods in Python?\n",
        "\n",
        "- Dunder methods\" (or \"magic methods\") in Python are a special set of predefined methods that are named with a double underscore prefix and suffix (e.g., __init__, __str__, __add__). They allow you to define how your custom classes interact with Python's built-in syntax, functions, and operators.\n",
        "\n",
        "These methods are not meant to be called directly. Instead, they are automatically invoked by the Python interpreter when a specific action or event occurs.\n",
        "\n",
        "6-Explain the concept of inheritance in OOP?\n",
        "\n",
        "- Inheritance is a fundamental concept in Object-Oriented Programming (OOP) where a new class (the subclass or child class) is created from an existing class (the superclass or parent class). The subclass automatically gains all the properties and behaviors (attributes and methods) of the superclass, which it can then reuse, extend, or override.\n",
        "\n",
        "This mechanism establishes an \"is-a\" relationship between the classes. For example, a Car is a Vehicle, so a Car class can inherit from a Vehicle class, gaining properties like speed and color while adding unique ones like numDoors.\n",
        "\n",
        "7-What is polymorphism in OOP?\n",
        "\n",
        "- Polymorphism, which comes from the Greek words for \"many\" and \"forms,\" is an OOP concept that allows an entity—be it a method or an object—to have different behaviors in different contexts. This capability provides flexibility, extensibility, and reusability in code.\n",
        "\n",
        "8-How is encapsulation achieved in Python?\n",
        "\n",
        "- In Python, encapsulation is achieved through a combination of naming conventions and a feature called name mangling, as Python does not have strict private access modifiers like Java or C++. Developers use prefixes to signal the intended visibility of class members, and name mangling provides a stronger, though not impenetrable, form of privacy.\n",
        "\n",
        "9-What is a constructor in Python?\n",
        "\n",
        "- In Python, the term constructor most commonly refers to the __init__ method. It is a special method automatically called when a new object (instance) of a class is created. Its primary purpose is to initialize the object's attributes with the values passed in at creation.\n",
        "\n",
        "10- What are class and static methods in Python?\n",
        "\n",
        "Class methods :\n",
        "\n",
        "- Class methods are bound to the class itself, not to an instance of the class.\n",
        "\n",
        "- Decorator: Defined using the @classmethod decorator.\n",
        "\n",
        "- First argument: They must have cls as their first parameter, which refers to the class object itself.\n",
        "\n",
        "- Access: Can access and modify class-level attributes and call other class methods, but cannot access instance-specific data.\n",
        "\n",
        "- Common uses: Often used as factory methods to provide alternative ways of creating new instances of the class.\n",
        "\n",
        "EXAMPLE :"
      ],
      "metadata": {
        "id": "D8X6XIAmdFSv"
      }
    },
    {
      "cell_type": "code",
      "execution_count": null,
      "metadata": {
        "id": "QxE1oIArdAhd",
        "colab": {
          "base_uri": "https://localhost:8080/"
        },
        "outputId": "1c4f2821-c751-496a-dac4-b549d86bc09f"
      },
      "outputs": [
        {
          "output_type": "stream",
          "name": "stdout",
          "text": [
            "Number of wheels changed to 6\n",
            "6\n"
          ]
        }
      ],
      "source": [
        "class Car:\n",
        "    wheels = 4  # A class variable\n",
        "\n",
        "    @classmethod\n",
        "    def change_wheels(cls, new_number):\n",
        "        \"\"\"A class method to change a class variable.\"\"\"\n",
        "        cls.wheels = new_number\n",
        "        print(f\"Number of wheels changed to {cls.wheels}\")\n",
        "\n",
        "# Calling the class method on the class\n",
        "Car.change_wheels(6)\n",
        "\n",
        "# Creating an instance shows the updated class variable\n",
        "my_car = Car()\n",
        "print(my_car.wheels)\n",
        "\n"
      ]
    },
    {
      "cell_type": "markdown",
      "source": [
        "Static methods :\n",
        "\n",
        "- Static methods are essentially regular functions that are logically grouped with a class in its namespace.\n",
        "\n",
        "- Decorator: Defined using the @staticmethod decorator.\n",
        "\n",
        "- First argument: They do not receive an implicit first argument like self or cls.\n",
        "\n",
        "- Access: Have no access to either the class state or the instance state. They only operate on the parameters passed to them.\n",
        "\n",
        "- Common uses: Ideal for utility functions that don't depend on any class or instance data.\n",
        "\n",
        "Example:"
      ],
      "metadata": {
        "id": "zp1thqo2K1ir"
      }
    },
    {
      "cell_type": "code",
      "source": [
        "class MathUtils:\n",
        "    @staticmethod\n",
        "    def add(x, y):\n",
        "        \"\"\"A static method to add two numbers.\"\"\"\n",
        "        return x + y\n",
        "\n",
        "# Calling the static method on the class\n",
        "result = MathUtils.add(5, 10)\n",
        "print(result)\n",
        "\n"
      ],
      "metadata": {
        "colab": {
          "base_uri": "https://localhost:8080/"
        },
        "id": "8QPzD1BuLDPg",
        "outputId": "e1ffc6f5-d995-434f-98f2-b0fe55ccfd31"
      },
      "execution_count": null,
      "outputs": [
        {
          "output_type": "stream",
          "name": "stdout",
          "text": [
            "15\n"
          ]
        }
      ]
    },
    {
      "cell_type": "markdown",
      "source": [
        "11- What is method overloading in Python?\n",
        "\n",
        "- Method overloading is the ability to define multiple methods with the same name but different parameters. However, in Python, method overloading is not supported natively in the same way it is in statically typed languages like Java or C++.\n",
        "\n",
        "- Because Python is a dynamically typed language, it does not distinguish between methods based on the number or type of their parameters. If you define multiple methods with the same name in a class, the later definition will simply overwrite the earlier ones.\n",
        "\n",
        "12- What is method overriding in OOP?\n",
        "\n",
        "- Method overriding is a feature in Object-Oriented Programming (OOP) that allows a subclass to provide a specific implementation of a method that is already defined in one of its superclasses. This is a core part of runtime polymorphism, as the version of the method that is executed depends on the object type calling it.\n",
        "\n",
        "13-What is a property decorator in Python?\n",
        "\n",
        "- The @property decorator in Python is a built-in feature that provides a \"Pythonic\" way to manage object attributes. It allows you to use methods for getting, setting, and deleting an attribute's value, while still accessing the attribute as if it were a public member variable.\n",
        "\n",
        "- This mechanism helps enforce encapsulation, a core OOP principle, by controlling how an attribute is accessed and updated, rather than allowing direct, unchecked modification.\n",
        "\n",
        "14-Why is polymorphism important in OOP?\n",
        "\n",
        "- Polymorphism is important in OOP because it promotes a high degree of code reusability, flexibility, and maintainability. It allows you to design systems that are easily adaptable and extensible without needing to modify existing code.\n",
        "\n",
        "15- What is an abstract class in Python?\n",
        "\n",
        "- In Python, an abstract class is a blueprint for other classes that cannot be instantiated on its own. It is created to define a common interface and enforce a specific structure for all its subclasses. Abstract classes are a key part of implementing abstraction and polymorphism in object-oriented programming.\n",
        "\n",
        "16-What are the advantages of OOP?\n",
        "\n",
        "Advantages of OOP :\n",
        "\n",
        "Code organization and modularity\n",
        "Encapsulation:\n",
        "\n",
        "- Bundles data and the methods that operate on it, hiding internal state and protecting data integrity.\n",
        "\n",
        "Modularity:\n",
        "\n",
        "- Breaks down complex systems into smaller, independent, and more manageable objects, simplifying development, testing, and debugging.\n",
        "\n",
        "Reusability and productivity\n",
        "Code reusability:\n",
        "\n",
        "- Enables new classes to inherit from existing ones, reducing redundant code and saving development time.\n",
        "\n",
        "Higher productivity:\n",
        "\n",
        "- The ability to reuse and extend existing components allows for faster development cycles.\n",
        "\n",
        "Flexibility and scalability\n",
        "Flexibility via polymorphism:\n",
        "\n",
        "- Allows code to adapt and accommodate different object types, making it easier to integrate new features without changing existing code.\n",
        "\n",
        "Scalability:\n",
        "\n",
        "- Supports building large, complex projects that can grow and adapt to new requirements over time with minimal code restructuring.\n",
        "\n",
        "Maintainability and troubleshooting\n",
        "Easier maintenance:\n",
        "\n",
        "- Code changes or bug fixes can be localized to a specific class or object, minimizing the impact on other parts of the system.\n",
        "\n",
        "Simpler troubleshooting:\n",
        "\n",
        "- Modularity isolates errors, making it easier to pinpoint and fix problems during debugging.\n",
        "\n",
        "Enhanced security\n",
        "Improved data security:\n",
        "\n",
        "- Encapsulation and abstraction restrict direct access to sensitive data, reducing the risk of unauthorized modification.\n",
        "\n",
        "Real-world modeling\n",
        "Effective problem-solving:\n",
        "\n",
        "- Models real-world entities, allowing developers to intuitively break down complex problems into smaller, manageable components with organized responsibilities.\n",
        "\n",
        "Enhanced collaboration\n",
        "Improved teamwork:\n",
        "\n",
        "- Allows multiple developers to work independently on different self-contained classes, minimizing conflicts and streamlining collaboration on large projects.\n",
        "\n",
        "17- What is the difference between a class variable and an instance variable?\n",
        "\n",
        "Class variables\n",
        "\n",
        "- Definition: A class variable is defined inside a class but outside of any methods (like __init__).\n",
        "\n",
        "- Ownership: It is owned by the class itself and is shared among all its objects.\n",
        "\n",
        "- Access: You can access it using either the class name (Dog.species) or an instance of the class (my_dog.species).\n",
        "\n",
        "- Modification: If you change a class variable using the class name, the change is reflected in all instances that haven't created their own local version of that variable."
      ],
      "metadata": {
        "id": "UdJ_GmYULHfM"
      }
    },
    {
      "cell_type": "code",
      "source": [
        "class Dog:\n",
        "    # This is a class variable\n",
        "    species = \"Canis familiaris\"\n",
        "\n",
        "    def __init__(self, name):\n",
        "        self.name = name\n",
        "\n",
        "dog1 = Dog(\"Buddy\")\n",
        "dog2 = Dog(\"Lucy\")\n",
        "\n",
        "# Both instances share the same class variable\n",
        "print(f\"Dog 1 species: {dog1.species}\")\n",
        "print(f\"Dog 2 species: {dog2.species}\")\n",
        "\n",
        "# Change the class variable via the class\n",
        "Dog.species = \"Other species\"\n",
        "\n",
        "# The change is visible for both objects\n",
        "print(f\"Dog 1 species after change: {dog1.species}\")\n",
        "print(f\"Dog 2 species after change: {dog2.species}\")\n"
      ],
      "metadata": {
        "colab": {
          "base_uri": "https://localhost:8080/"
        },
        "id": "ee8XF2CZM6Gc",
        "outputId": "01226986-3fc1-46b5-a2d4-c79d8a1a90d4"
      },
      "execution_count": null,
      "outputs": [
        {
          "output_type": "stream",
          "name": "stdout",
          "text": [
            "Dog 1 species: Canis familiaris\n",
            "Dog 2 species: Canis familiaris\n",
            "Dog 1 species after change: Other species\n",
            "Dog 2 species after change: Other species\n"
          ]
        }
      ]
    },
    {
      "cell_type": "markdown",
      "source": [
        "Instance variables\n",
        "\n",
        "- Definition: An instance variable is defined inside a method, most commonly the __init__ constructor, using the self keyword.\n",
        "\n",
        "- Ownership: It is owned by a specific instance (object) of the class. Each object has its own separate copy of the instance variable.\n",
        "\n",
        "- Access: It can only be accessed through an instance of the class (my_dog.name).\n",
        "\n",
        "- Modification: Changes to an instance variable only affect that specific instance and not any others."
      ],
      "metadata": {
        "id": "_5m5JNiyM-Mx"
      }
    },
    {
      "cell_type": "code",
      "source": [
        "class Dog:\n",
        "    def __init__(self, name):\n",
        "        # This is an instance variable\n",
        "        self.name = name\n",
        "\n",
        "dog1 = Dog(\"Buddy\")\n",
        "dog2 = Dog(\"Lucy\")\n",
        "\n",
        "# Each instance has its own unique 'name'\n",
        "print(f\"Dog 1 name: {dog1.name}\")\n",
        "print(f\"Dog 2 name: {dog2.name}\")\n",
        "\n",
        "# Change the instance variable for one object\n",
        "dog1.name = \"Max\"\n",
        "\n",
        "# The change only affects dog1\n",
        "print(f\"Dog 1 name after change: {dog1.name}\")\n",
        "print(f\"Dog 2 name after change: {dog2.name}\")\n"
      ],
      "metadata": {
        "colab": {
          "base_uri": "https://localhost:8080/"
        },
        "id": "OtEivWyGNG6A",
        "outputId": "c634f786-9678-40e2-8415-fe8ff1a4ae76"
      },
      "execution_count": null,
      "outputs": [
        {
          "output_type": "stream",
          "name": "stdout",
          "text": [
            "Dog 1 name: Buddy\n",
            "Dog 2 name: Lucy\n",
            "Dog 1 name after change: Max\n",
            "Dog 2 name after change: Lucy\n"
          ]
        }
      ]
    },
    {
      "cell_type": "markdown",
      "source": [
        "18-What is multiple inheritance in Python?\n",
        "\n",
        "- In Python, multiple inheritance is a feature that allows a class to inherit attributes and methods from more than one parent class. A subclass can therefore combine the functionalities of all its superclasses.\n",
        "\n",
        "For example, a Bat class could inherit from both a Mammal class and a WingedAnimal class, making it possible for a bat object to use the methods of both superclasses.\n",
        "\n",
        "19-Explain the purpose of ‘’__str__’ and ‘__repr__’ ‘ methods in Python?\n",
        "\n",
        "__str__(): Readability for users\n",
        "\n",
        "- Purpose: To provide a human-readable, \"pretty\" string representation of an object. It's intended for end-users and is often more concise and less formal.\n",
        "\n",
        "__repr__(): Unambiguity for developers\n",
        "\n",
        "- Purpose: To provide a detailed and unambiguous, \"official\" string representation of an object. It's intended for developers during debugging and logging.\n",
        "\n",
        "20-What is the significance of the ‘super()’ function in Python?\n",
        "\n",
        "The significance of super() in Python\n",
        "\n",
        "Initializes parent classes' attributes:\n",
        "\n",
        "- It is commonly used in a subclass's __init__ constructor to call the __init__ method of the parent class. This ensures that inherited attributes are properly initialized without rewriting the initialization code.\n",
        "\n",
        "Facilitates code reuse:\n",
        "\n",
        "- When a child class overrides a parent's method, super() allows you to call the parent's version of the method. This lets you extend or modify inherited behavior rather than completely replacing it.\n",
        "\n",
        "Enables cooperative multiple inheritance:\n",
        "\n",
        "- super() uses the Method Resolution Order (MRO) to determine which method to call next in the inheritance chain. This is vital for managing multiple inheritance, as it prevents methods from being called multiple times and ensures they are called in a consistent and predictable sequence.\n",
        "\n",
        "Avoids hardcoding parent class names:\n",
        "- By using super(), you don't need to explicitly name the parent class when calling its methods. This makes your code more flexible and easier to maintain, as you can change the class hierarchy without altering the method calls.\n",
        "\n",
        "21- What is the significance of the __del__ method in Python?\n",
        "\n",
        "- The __del__ method, often called the destructor, is a special method in Python that is automatically called by the garbage collector just before an object is destroyed. Its primary purpose is to define cleanup actions for an object, such as closing files or network connections.\n",
        "\n",
        "22-What is the difference between @staticmethod and @classmethod in Python?\n",
        "\n",
        "@classmethod:\n",
        "\n",
        "- Bound to the class and receives the class itself (cls) as its first argument. It can access and modify class-level state, often used for factory methods or manipulating shared class variables.\n",
        "\n",
        "@staticmethod:\n",
        "\n",
        "- Just a regular function defined inside a class, with no implicit first argument (self or cls). It cannot access or modify class or instance state and is used for utility functions that are logically grouped with the class but don't need access to its state.\n",
        "\n",
        "23-How does polymorphism work in Python with inheritance?\n",
        "\n",
        "How it works with inheritance (method overriding)\n",
        "\n",
        "- Method overriding is a key mechanism for polymorphism within an inheritance hierarchy.\n",
        "\n",
        "- A parent class (or superclass) defines a method with a certain signature.\n",
        "\n",
        "- Child classes (or subclasses) inherit from the parent but can provide their own specific implementations for that same method.\n",
        "\n",
        "- When a function calls this method on an object, Python determines which implementation to run at runtime, based on the object's actual class.\n",
        "\n",
        "Example:"
      ],
      "metadata": {
        "id": "IrNkf0sXNKlL"
      }
    },
    {
      "cell_type": "code",
      "source": [
        "class Animal:\n",
        "    def speak(self):\n",
        "        raise NotImplementedError(\"Subclass must implement abstract method\")\n",
        "\n",
        "class Dog(Animal):\n",
        "    def speak(self):\n",
        "        return \"Woof!\"\n",
        "\n",
        "class Cat(Animal):\n",
        "    def speak(self):\n",
        "        return \"Meow!\"\n",
        "\n",
        "def make_animal_speak(animal):\n",
        "    print(animal.speak())\n",
        "\n",
        "dog_instance = Dog()\n",
        "cat_instance = Cat()\n",
        "\n",
        "make_animal_speak(dog_instance)\n",
        "make_animal_speak(cat_instance)\n"
      ],
      "metadata": {
        "colab": {
          "base_uri": "https://localhost:8080/"
        },
        "id": "nX887OjpOuLa",
        "outputId": "7c5f2256-e686-472e-d711-b3853fae9439"
      },
      "execution_count": null,
      "outputs": [
        {
          "output_type": "stream",
          "name": "stdout",
          "text": [
            "Woof!\n",
            "Meow!\n"
          ]
        }
      ]
    },
    {
      "cell_type": "markdown",
      "source": [
        "24-What is method chaining in Python OOP?\n",
        "\n",
        "- Method chaining is a technique in object-oriented programming that allows for multiple method calls to be made on the same object in a single, sequential line of code. This design pattern creates a \"fluent interface\" that is highly readable and expressive, as it can often resemble natural language.\n",
        "\n",
        "25-What is the purpose of the __call__ method in Python?\n",
        "\n",
        "- The __call__ method allows an instance of a class to be called like a function. This is useful for creating objects that act like stateful functions, such as counters or function factories. It is also the mechanism used to implement class-based decorators. When you call an object obj(), Python automatically executes its __call__ method."
      ],
      "metadata": {
        "id": "ZlgwQxh1O39Z"
      }
    },
    {
      "cell_type": "markdown",
      "source": [
        "#CODING QUESTIONS\n",
        "1-Create a parent class Animal with a method speak() that prints a generic message. Create a child class Dog\n",
        "that overrides the speak() method to print \"Bark!\"."
      ],
      "metadata": {
        "id": "mcaXTT_WPOYA"
      }
    },
    {
      "cell_type": "code",
      "source": [
        "class Animal:\n",
        "\n",
        "    def speak(self):\n",
        "        print(\"Animal makes a sound.\")\n",
        "\n",
        "class Dog(Animal):\n",
        "\n",
        "    def speak(self):\n",
        "        print(\"Bark!\")\n",
        "\n",
        "# Create an instance of the parent class\n",
        "animal = Animal()\n",
        "animal.speak()\n",
        "\n",
        "# Create an instance of the child class\n",
        "dog = Dog()\n",
        "dog.speak()\n"
      ],
      "metadata": {
        "colab": {
          "base_uri": "https://localhost:8080/"
        },
        "id": "tkiVUq3LPYGA",
        "outputId": "dcd50b03-2db7-4c04-f345-16cd2f3a99a2"
      },
      "execution_count": null,
      "outputs": [
        {
          "output_type": "stream",
          "name": "stdout",
          "text": [
            "Animal makes a sound.\n",
            "Bark!\n"
          ]
        }
      ]
    },
    {
      "cell_type": "markdown",
      "source": [
        "2-Write a program to create an abstract class Shape with a method area(). Derive classes Circle and Rectangle\n",
        "from it and implement the area() method in both.\n"
      ],
      "metadata": {
        "id": "NFxt3fhBPjzP"
      }
    },
    {
      "cell_type": "code",
      "source": [
        "from abc import ABC, abstractmethod\n",
        "import math\n",
        "\n",
        "class Shape(ABC):\n",
        "\n",
        "    @abstractmethod\n",
        "    def area(self):\n",
        "        pass\n",
        "\n",
        "class Circle(Shape):\n",
        "    def __init__(self, radius):\n",
        "        self.radius = radius\n",
        "\n",
        "    def area(self):\n",
        "        return math.pi * (self.radius ** 2)\n",
        "\n",
        "class Rectangle(Shape):\n",
        "    def __init__(self, length, width):\n",
        "        self.length = length\n",
        "        self.width = width\n",
        "\n",
        "    def area(self):\n",
        "        return self.length * self.width\n",
        "\n",
        "# Create instances of the concrete subclasses\n",
        "circle_instance = Circle(5)\n",
        "rectangle_instance = Rectangle(10, 4)\n",
        "\n",
        "# Call the area() method on each instance\n",
        "print(f\"The area of the circle is: {circle_instance.area()}\")\n",
        "print(f\"The area of the rectangle is: {rectangle_instance.area()}\")\n",
        "\n",
        "# This will raise a TypeError because you cannot instantiate an abstract class directly.\n",
        "try:\n",
        "    s = Shape()\n",
        "except TypeError as e:\n",
        "    print(f\"\\nError: {e}\")\n"
      ],
      "metadata": {
        "colab": {
          "base_uri": "https://localhost:8080/"
        },
        "id": "xWIIQzWQPnaR",
        "outputId": "bd1ddc13-c7a6-4791-f70f-76750c58bc38"
      },
      "execution_count": null,
      "outputs": [
        {
          "output_type": "stream",
          "name": "stdout",
          "text": [
            "The area of the circle is: 78.53981633974483\n",
            "The area of the rectangle is: 40\n",
            "\n",
            "Error: Can't instantiate abstract class Shape without an implementation for abstract method 'area'\n"
          ]
        }
      ]
    },
    {
      "cell_type": "markdown",
      "source": [
        "3- Implement a multi-level inheritance scenario where a class Vehicle has an attribute type. Derive a class Car\n",
        "and further derive a class ElectricCar that adds a battery attribute."
      ],
      "metadata": {
        "id": "33iTulW1QByZ"
      }
    },
    {
      "cell_type": "code",
      "source": [
        "class Vehicle:\n",
        "\n",
        "    def __init__(self, vehicle_type):\n",
        "        self.type = vehicle_type\n",
        "\n",
        "    def display_info(self):\n",
        "        print(f\"Type: {self.type}\")\n",
        "\n",
        "class Car(Vehicle):\n",
        "\n",
        "    def __init__(self, make, model):\n",
        "        super().__init__(\"Car\")  # Calls the parent constructor with the type\n",
        "        self.make = make\n",
        "        self.model = model\n",
        "\n",
        "    def display_info(self):\n",
        "        super().display_info()\n",
        "        print(f\"Make: {self.make}, Model: {self.model}\")\n",
        "\n",
        "class ElectricCar(Car):\n",
        "\n",
        "    def __init__(self, make, model, battery_capacity):\n",
        "        super().__init__(make, model)  # Calls the parent (Car) constructor\n",
        "        self.battery = battery_capacity\n",
        "\n",
        "    def display_info(self):\n",
        "        super().display_info()\n",
        "        print(f\"Battery Capacity: {self.battery} kWh\")\n",
        "\n",
        "# Demonstrate the multi-level inheritance\n",
        "print(\"--- Vehicle Information ---\")\n",
        "vehicle = Vehicle(\"Truck\")\n",
        "vehicle.display_info()\n",
        "\n",
        "print(\"\\n--- Car Information ---\")\n",
        "car = Car(\"Ford\", \"Mustang\")\n",
        "car.display_info()\n",
        "\n",
        "print(\"\\n--- Electric Car Information ---\")\n",
        "electric_car = ElectricCar(\"Tesla\", \"Model S\", 75)\n",
        "electric_car.display_info()\n"
      ],
      "metadata": {
        "colab": {
          "base_uri": "https://localhost:8080/"
        },
        "id": "Jgl0ySbpQEAv",
        "outputId": "ce9b930c-e8ff-40dc-e927-67edf3eebcd9"
      },
      "execution_count": null,
      "outputs": [
        {
          "output_type": "stream",
          "name": "stdout",
          "text": [
            "--- Vehicle Information ---\n",
            "Type: Truck\n",
            "\n",
            "--- Car Information ---\n",
            "Type: Car\n",
            "Make: Ford, Model: Mustang\n",
            "\n",
            "--- Electric Car Information ---\n",
            "Type: Car\n",
            "Make: Tesla, Model: Model S\n",
            "Battery Capacity: 75 kWh\n"
          ]
        }
      ]
    },
    {
      "cell_type": "markdown",
      "source": [
        "4-Demonstrate polymorphism by creating a base class Bird with a method fly(). Create two derived classes\n",
        "Sparrow and Penguin that override the fly() method."
      ],
      "metadata": {
        "id": "1Y5fDZE1Qai7"
      }
    },
    {
      "cell_type": "code",
      "source": [
        "class Bird:\n",
        "\n",
        "    def fly(self):\n",
        "\n",
        "        print(\"A bird can fly.\")\n",
        "\n",
        "class Sparrow(Bird):\n",
        "\n",
        "    def fly(self):\n",
        "        print(\"A sparrow flies by flapping its wings rapidly.\")\n",
        "\n",
        "class Penguin(Bird):\n",
        "\n",
        "    def fly(self):\n",
        "        print(\"A penguin cannot fly.\")\n",
        "\n",
        "# Demonstrate polymorphism\n",
        "def perform_flying(bird):\n",
        "\n",
        "    bird.fly()\n",
        "\n",
        "# Create instances of the derived classes\n",
        "sparrow_instance = Sparrow()\n",
        "penguin_instance = Penguin()\n",
        "\n",
        "perform_flying(sparrow_instance)\n",
        "perform_flying(penguin_instance)\n"
      ],
      "metadata": {
        "colab": {
          "base_uri": "https://localhost:8080/"
        },
        "id": "ghTerGrLQrWp",
        "outputId": "03c19713-1b32-4d9d-d045-1ab20e02518c"
      },
      "execution_count": null,
      "outputs": [
        {
          "output_type": "stream",
          "name": "stdout",
          "text": [
            "A sparrow flies by flapping its wings rapidly.\n",
            "A penguin cannot fly.\n"
          ]
        }
      ]
    },
    {
      "cell_type": "markdown",
      "source": [
        "5-Write a program to demonstrate encapsulation by creating a class BankAccount with private attributes\n",
        "balance and methods to deposit, withdraw, and check balance."
      ],
      "metadata": {
        "id": "xKFKPQTMQ4Mb"
      }
    },
    {
      "cell_type": "code",
      "source": [
        "class BankAccount:\n",
        "\n",
        "\n",
        "    def __init__(self, account_holder, initial_balance=0):\n",
        "        # The balance is a private attribute, indicated by a double underscore prefix.\n",
        "        self.__balance = initial_balance\n",
        "        self.account_holder = account_holder\n",
        "\n",
        "    def deposit(self, amount):\n",
        "\n",
        "        if amount > 0:\n",
        "            self.__balance += amount\n",
        "            print(f\"Deposited ${amount:.2f}. New balance: ${self.__balance:.2f}\")\n",
        "        else:\n",
        "            print(\"Deposit amount must be positive.\")\n",
        "\n",
        "    def withdraw(self, amount):\n",
        "\n",
        "        if amount > 0 and amount <= self.__balance:\n",
        "            self.__balance -= amount\n",
        "            print(f\"Withdrew ${amount:.2f}. New balance: ${self.__balance:.2f}\")\n",
        "        elif amount <= 0:\n",
        "            print(\"Withdrawal amount must be positive.\")\n",
        "        else:\n",
        "            print(\"Insufficient funds.\")\n",
        "\n",
        "    def check_balance(self):\n",
        "\n",
        "        return self.__balance\n",
        "\n",
        "# Create an instance of the BankAccount class\n",
        "my_account = BankAccount(\"Alice\", 1000)\n",
        "\n",
        "# Interact with the private balance through public methods\n",
        "my_account.deposit(500)\n",
        "my_account.withdraw(200)\n",
        "\n",
        "# Check the balance using the public method\n",
        "print(f\"Current balance for {my_account.account_holder}: ${my_account.check_balance():.2f}\")\n",
        "\n",
        "# Attempt to directly access the private attribute (will cause an error)\n",
        "try:\n",
        "    print(my_account.__balance)\n",
        "except AttributeError as e:\n",
        "    print(f\"\\nError: {e}\")\n"
      ],
      "metadata": {
        "colab": {
          "base_uri": "https://localhost:8080/"
        },
        "id": "buNj59QzQ8HZ",
        "outputId": "08cc3429-9231-4d5f-b05a-7ce2bff684fc"
      },
      "execution_count": null,
      "outputs": [
        {
          "output_type": "stream",
          "name": "stdout",
          "text": [
            "Deposited $500.00. New balance: $1500.00\n",
            "Withdrew $200.00. New balance: $1300.00\n",
            "Current balance for Alice: $1300.00\n",
            "\n",
            "Error: 'BankAccount' object has no attribute '__balance'\n"
          ]
        }
      ]
    },
    {
      "cell_type": "markdown",
      "source": [
        "6- Demonstrate runtime polymorphism using a method play() in a base class Instrument. Derive classes Guitar\n",
        "and Piano that implement their own version of play()."
      ],
      "metadata": {
        "id": "CliBzHZ2RpDU"
      }
    },
    {
      "cell_type": "code",
      "source": [
        "class Instrument:\n",
        "\n",
        "    def play(self):\n",
        "\n",
        "        print(\"The instrument is playing a sound.\")\n",
        "\n",
        "class Guitar(Instrument):\n",
        "\n",
        "    def play(self):\n",
        "\n",
        "        print(\"The guitar is strumming a melody.\")\n",
        "\n",
        "class Piano(Instrument):\n",
        "\n",
        "    def play(self):\n",
        "        \"\"\"Overrides the parent's play method for a piano.\"\"\"\n",
        "        print(\"The piano is playing a classical piece.\")\n",
        "\n",
        "# A function that demonstrates runtime polymorphism\n",
        "def start_playing_music(instrument):\n",
        "    \"\"\"Takes an instrument object and calls its play() method.\"\"\"\n",
        "    instrument.play()\n",
        "\n",
        "# Create instances of the derived classes\n",
        "guitar_instance = Guitar()\n",
        "piano_instance = Piano()\n",
        "generic_instrument = Instrument()\n",
        "\n",
        "# The same function call produces different results based on the object type at runtime\n",
        "print(\"--- Demonstrating Runtime Polymorphism ---\")\n",
        "start_playing_music(generic_instrument)\n",
        "start_playing_music(guitar_instance)\n",
        "start_playing_music(piano_instance)\n"
      ],
      "metadata": {
        "colab": {
          "base_uri": "https://localhost:8080/"
        },
        "id": "rrtYFDCuR_PY",
        "outputId": "5144488c-9d99-4e3e-e000-efe3cd7c633b"
      },
      "execution_count": null,
      "outputs": [
        {
          "output_type": "stream",
          "name": "stdout",
          "text": [
            "--- Demonstrating Runtime Polymorphism ---\n",
            "The instrument is playing a sound.\n",
            "The guitar is strumming a melody.\n",
            "The piano is playing a classical piece.\n"
          ]
        }
      ]
    },
    {
      "cell_type": "markdown",
      "source": [
        "7- Create a class MathOperations with a class method add_numbers() to add two numbers and a static\n",
        "method subtract_numbers() to subtract two numbers."
      ],
      "metadata": {
        "id": "N13IFMvaSHCH"
      }
    },
    {
      "cell_type": "code",
      "source": [
        "class MathOperations:\n",
        "    @classmethod\n",
        "    def add_numbers(cls, x, y):\n",
        "        return x + y\n",
        "\n",
        "    @staticmethod\n",
        "    def subtract_numbers(x, y):\n",
        "        return x - y\n",
        "\n",
        "result_add = MathOperations.add_numbers(10, 5)\n",
        "print(f\"The sum is: {result_add}\")\n",
        "\n",
        "result_subtract = MathOperations.subtract_numbers(10, 5)\n",
        "print(f\"The difference is: {result_subtract}\")\n"
      ],
      "metadata": {
        "colab": {
          "base_uri": "https://localhost:8080/"
        },
        "id": "vf7D-hWXSXrA",
        "outputId": "356e6596-c62b-46e7-b63c-a3ca73671b9b"
      },
      "execution_count": null,
      "outputs": [
        {
          "output_type": "stream",
          "name": "stdout",
          "text": [
            "The sum is: 15\n",
            "The difference is: 5\n"
          ]
        }
      ]
    },
    {
      "cell_type": "markdown",
      "source": [
        "8- Implement a class Person with a class method to count the total number of persons created"
      ],
      "metadata": {
        "id": "VYYjfH08Se6D"
      }
    },
    {
      "cell_type": "code",
      "source": [
        "class Person:\n",
        "    number_of_persons = 0\n",
        "\n",
        "    def __init__(self, name):\n",
        "        self.name = name\n",
        "        Person.number_of_persons += 1\n",
        "\n",
        "    @classmethod\n",
        "    def get_total_persons(cls):\n",
        "        return cls.number_of_persons\n",
        "\n",
        "p1 = Person(\"Alice\")\n",
        "p2 = Person(\"Bob\")\n",
        "p3 = Person(\"Charlie\")\n",
        "\n",
        "print(Person.get_total_persons())\n"
      ],
      "metadata": {
        "colab": {
          "base_uri": "https://localhost:8080/"
        },
        "id": "rT1oAt74SkHw",
        "outputId": "a0e5b23e-2e7a-4282-fd3c-a44a2288c9de"
      },
      "execution_count": null,
      "outputs": [
        {
          "output_type": "stream",
          "name": "stdout",
          "text": [
            "3\n"
          ]
        }
      ]
    },
    {
      "cell_type": "markdown",
      "source": [
        "9- Write a class Fraction with attributes numerator and denominator. Override the str method to display the\n",
        "fraction as \"numerator/denominator\"."
      ],
      "metadata": {
        "id": "V4t-2vyBSq71"
      }
    },
    {
      "cell_type": "code",
      "source": [
        "class Fraction:\n",
        "    def __init__(self, numerator, denominator):\n",
        "        if denominator == 0:\n",
        "            raise ValueError(\"Denominator cannot be zero.\")\n",
        "        self.numerator = numerator\n",
        "        self.denominator = denominator\n",
        "\n",
        "    def __str__(self):\n",
        "        return f\"{self.numerator}/{self.denominator}\"\n",
        "\n",
        "f = Fraction(3, 4)\n",
        "\n",
        "print(f)\n"
      ],
      "metadata": {
        "colab": {
          "base_uri": "https://localhost:8080/"
        },
        "id": "iI7PvpDKSzfS",
        "outputId": "32ef2c53-017f-4436-bdb3-a1b643d33700"
      },
      "execution_count": null,
      "outputs": [
        {
          "output_type": "stream",
          "name": "stdout",
          "text": [
            "3/4\n"
          ]
        }
      ]
    },
    {
      "cell_type": "markdown",
      "source": [
        "10-Demonstrate operator overloading by creating a class Vector and overriding the add method to add two\n",
        "vectors."
      ],
      "metadata": {
        "id": "iy2Qm_AmS76j"
      }
    },
    {
      "cell_type": "code",
      "source": [
        "class Vector:\n",
        "    def __init__(self, x, y):\n",
        "        self.x = x\n",
        "        self.y = y\n",
        "\n",
        "    def __add__(self, other):\n",
        "        if isinstance(other, Vector):\n",
        "            return Vector(self.x + other.x, self.y + other.y)\n",
        "        raise TypeError(\"Unsupported operand type for +: 'Vector' and '{}'\".format(type(other).__name__))\n",
        "\n",
        "    def __str__(self):\n",
        "        return f\"Vector({self.x}, {self.y})\"\n",
        "\n",
        "v1 = Vector(5, 10)\n",
        "v2 = Vector(3, 7)\n",
        "\n",
        "v3 = v1 + v2\n",
        "\n",
        "print(v3)\n"
      ],
      "metadata": {
        "colab": {
          "base_uri": "https://localhost:8080/"
        },
        "id": "ysqPFhRETAKe",
        "outputId": "ca591076-94d5-429f-9f4a-7637a6ca50bc"
      },
      "execution_count": null,
      "outputs": [
        {
          "output_type": "stream",
          "name": "stdout",
          "text": [
            "Vector(8, 17)\n"
          ]
        }
      ]
    },
    {
      "cell_type": "markdown",
      "source": [
        "11-Create a class Person with attributes name and age. Add a method greet() that prints \"Hello, my name is\n",
        "{name} and I am {age} years old.\""
      ],
      "metadata": {
        "id": "rh0Jhpx9TJPj"
      }
    },
    {
      "cell_type": "code",
      "source": [
        "class Person:\n",
        "    def __init__(self, name, age):\n",
        "        self.name = name\n",
        "        self.age = age\n",
        "\n",
        "    def greet(self):\n",
        "        print(f\"Hello, my name is {self.name} and I am {self.age} years old.\")\n",
        "\n",
        "person1 = Person(\"Alice\", 30)\n",
        "person1.greet()\n"
      ],
      "metadata": {
        "colab": {
          "base_uri": "https://localhost:8080/"
        },
        "id": "bnnflMGlUKG9",
        "outputId": "59333b68-26b8-4ef9-dd9c-afeb57ac73a3"
      },
      "execution_count": null,
      "outputs": [
        {
          "output_type": "stream",
          "name": "stdout",
          "text": [
            "Hello, my name is Alice and I am 30 years old.\n"
          ]
        }
      ]
    },
    {
      "cell_type": "markdown",
      "source": [
        "12-Implement a class Student with attributes name and grades. Create a method average_grade() to compute\n",
        "the average of the grades."
      ],
      "metadata": {
        "id": "ZYDULrxZURrr"
      }
    },
    {
      "cell_type": "code",
      "source": [
        "class Student:\n",
        "    def __init__(self, name, grades):\n",
        "        self.name = name\n",
        "        self.grades = grades\n",
        "\n",
        "    def average_grade(self):\n",
        "        if not self.grades:\n",
        "            return 0\n",
        "        return sum(self.grades) / len(self.grades)\n",
        "\n",
        "student1 = Student(\"Alice\", [85, 90, 88, 92])\n",
        "print(f\"The average grade for {student1.name} is: {student1.average_grade()}\")\n",
        "\n",
        "student2 = Student(\"Bob\", [75, 80, 78])\n",
        "print(f\"The average grade for {student2.name} is: {student2.average_grade()}\")\n"
      ],
      "metadata": {
        "colab": {
          "base_uri": "https://localhost:8080/"
        },
        "id": "pDJbI7sRUUit",
        "outputId": "81861dc3-18d5-4abf-c50d-7b64575db881"
      },
      "execution_count": null,
      "outputs": [
        {
          "output_type": "stream",
          "name": "stdout",
          "text": [
            "The average grade for Alice is: 88.75\n",
            "The average grade for Bob is: 77.66666666666667\n"
          ]
        }
      ]
    },
    {
      "cell_type": "markdown",
      "source": [
        "13-. Create a class Rectangle with methods set_dimensions() to set the dimensions and area() to calculate the\n",
        "area.\n"
      ],
      "metadata": {
        "id": "SYKQs9WMUcKr"
      }
    },
    {
      "cell_type": "code",
      "source": [
        "class Rectangle:\n",
        "    def __init__(self, length=0, width=0):\n",
        "        self.length = length\n",
        "        self.width = width\n",
        "\n",
        "    def set_dimensions(self, length, width):\n",
        "        self.length = length\n",
        "        self.width = width\n",
        "\n",
        "    def area(self):\n",
        "        return self.length * self.width\n",
        "\n",
        "rect = Rectangle()\n",
        "rect.set_dimensions(10, 5)\n",
        "print(f\"The area of the rectangle is: {rect.area()}\")\n",
        "\n",
        "rect.set_dimensions(15, 8)\n",
        "print(f\"The updated area of the rectangle is: {rect.area()}\")\n"
      ],
      "metadata": {
        "colab": {
          "base_uri": "https://localhost:8080/"
        },
        "id": "MrJeoHMCUgXi",
        "outputId": "f51d5c54-f6a8-452b-e039-0c662730618e"
      },
      "execution_count": null,
      "outputs": [
        {
          "output_type": "stream",
          "name": "stdout",
          "text": [
            "The area of the rectangle is: 50\n",
            "The updated area of the rectangle is: 120\n"
          ]
        }
      ]
    },
    {
      "cell_type": "markdown",
      "source": [
        "14-Create a class Employee with a method calculate_salary() that computes the salary based on hours worked\n",
        "and hourly rate. Create a derived class Manager that adds a bonus to the salary"
      ],
      "metadata": {
        "id": "6tXpG7ATUm4s"
      }
    },
    {
      "cell_type": "code",
      "source": [
        "class Employee:\n",
        "    def __init__(self, hourly_rate):\n",
        "        self.hourly_rate = hourly_rate\n",
        "\n",
        "    def calculate_salary(self, hours_worked):\n",
        "        return self.hourly_rate * hours_worked\n",
        "\n",
        "class Manager(Employee):\n",
        "    def __init__(self, hourly_rate, bonus):\n",
        "        super().__init__(hourly_rate)\n",
        "        self.bonus = bonus\n",
        "\n",
        "    def calculate_salary(self, hours_worked):\n",
        "        base_salary = super().calculate_salary(hours_worked)\n",
        "        return base_salary + self.bonus\n",
        "\n",
        "employee = Employee(20)\n",
        "print(f\"Employee salary: ${employee.calculate_salary(40)}\")\n",
        "\n",
        "manager = Manager(25, 500)\n",
        "print(f\"Manager salary: ${manager.calculate_salary(40)}\")\n"
      ],
      "metadata": {
        "colab": {
          "base_uri": "https://localhost:8080/"
        },
        "id": "k3vuFKu8UqDQ",
        "outputId": "2999c340-2101-4ba2-ba8e-0fd63bc4112a"
      },
      "execution_count": null,
      "outputs": [
        {
          "output_type": "stream",
          "name": "stdout",
          "text": [
            "Employee salary: $800\n",
            "Manager salary: $1500\n"
          ]
        }
      ]
    },
    {
      "cell_type": "markdown",
      "source": [
        "15-Create a class Product with attributes name, price, and quantity. Implement a method total_price() that\n",
        "calculates the total price of the product."
      ],
      "metadata": {
        "id": "094Q8ddMU_1w"
      }
    },
    {
      "cell_type": "code",
      "source": [
        "class Product:\n",
        "\n",
        "    def __init__(self, name, price, quantity):\n",
        "\n",
        "        self.name = name\n",
        "        self.price = price\n",
        "        self.quantity = quantity\n",
        "\n",
        "    def total_price(self):\n",
        "\n",
        "        return self.price * self.quantity\n",
        "\n",
        "\n",
        "product1 = Product(\"Laptop\", 1200.50, 2)\n",
        "\n",
        "\n",
        "total = product1.total_price()\n",
        "print(f\"The total price for '{product1.name}' is: ${total:.2f}\")\n"
      ],
      "metadata": {
        "colab": {
          "base_uri": "https://localhost:8080/"
        },
        "id": "PEChraB3VDRQ",
        "outputId": "acc2e313-9a19-4d4e-880e-412785df3a48"
      },
      "execution_count": null,
      "outputs": [
        {
          "output_type": "stream",
          "name": "stdout",
          "text": [
            "The total price for 'Laptop' is: $2401.00\n"
          ]
        }
      ]
    },
    {
      "cell_type": "markdown",
      "source": [
        "16- Create a class Animal with an abstract method sound(). Create two derived classes Cow and Sheep that\n",
        "implement the sound() method."
      ],
      "metadata": {
        "id": "0zAWX8TwVPrQ"
      }
    },
    {
      "cell_type": "code",
      "source": [
        "from abc import ABC, abstractmethod\n",
        "\n",
        "class Animal(ABC):\n",
        "    @abstractmethod\n",
        "    def sound(self):\n",
        "        pass\n",
        "\n",
        "class Cow(Animal):\n",
        "    def sound(self):\n",
        "        print(\"Moo!\")\n",
        "\n",
        "class Sheep(Animal):\n",
        "    def sound(self):\n",
        "        print(\"Baa!\")\n",
        "\n",
        "cow = Cow()\n",
        "cow.sound()\n",
        "\n",
        "sheep = Sheep()\n",
        "sheep.sound()\n"
      ],
      "metadata": {
        "colab": {
          "base_uri": "https://localhost:8080/"
        },
        "id": "08boGRjaVSx-",
        "outputId": "d5317aae-f7a8-4abb-bc9c-b71d939bc0dd"
      },
      "execution_count": null,
      "outputs": [
        {
          "output_type": "stream",
          "name": "stdout",
          "text": [
            "Moo!\n",
            "Baa!\n"
          ]
        }
      ]
    },
    {
      "cell_type": "markdown",
      "source": [
        "17-Create a class Book with attributes title, author, and year_published. Add a method get_book_info() that\n",
        "returns a formatted string with the book's details."
      ],
      "metadata": {
        "id": "-0mAdD-3VZFG"
      }
    },
    {
      "cell_type": "code",
      "source": [
        "class Book:\n",
        "    def __init__(self, title, author, year_published):\n",
        "        self.title = title\n",
        "        self.author = author\n",
        "        self.year_published = year_published\n",
        "\n",
        "    def get_book_info(self):\n",
        "        return f\"Title: {self.title}, Author: {self.author}, Year Published: {self.year_published}\"\n",
        "\n",
        "book1 = Book(\"The Hitchhiker's Guide to the Galaxy\", \"Douglas Adams\", 1979)\n",
        "\n",
        "print(book1.get_book_info())\n"
      ],
      "metadata": {
        "colab": {
          "base_uri": "https://localhost:8080/"
        },
        "id": "87dnmPoUVcCI",
        "outputId": "ac04cc06-b82d-4bc5-a02e-4c13fcc548b8"
      },
      "execution_count": null,
      "outputs": [
        {
          "output_type": "stream",
          "name": "stdout",
          "text": [
            "Title: The Hitchhiker's Guide to the Galaxy, Author: Douglas Adams, Year Published: 1979\n"
          ]
        }
      ]
    },
    {
      "cell_type": "markdown",
      "source": [
        "18-Create a class House with attributes address and price. Create a derived class Mansion that adds an\n",
        "attribute number_of_rooms."
      ],
      "metadata": {
        "id": "GUP4LbUJViuD"
      }
    },
    {
      "cell_type": "code",
      "source": [
        "class House:\n",
        "    def __init__(self, address, price):\n",
        "        self.address = address\n",
        "        self.price = price\n",
        "\n",
        "class Mansion(House):\n",
        "    def __init__(self, address, price, number_of_rooms):\n",
        "        super().__init__(address, price)\n",
        "        self.number_of_rooms = number_of_rooms\n",
        "\n",
        "mansion1 = Mansion(\"123 Beverly Hills\", 25000000, 20)\n",
        "\n",
        "print(f\"Address: {mansion1.address}\")\n",
        "print(f\"Price: ${mansion1.price}\")\n",
        "print(f\"Number of rooms: {mansion1.number_of_rooms}\")\n"
      ],
      "metadata": {
        "colab": {
          "base_uri": "https://localhost:8080/"
        },
        "id": "xdJPFtjPVmXW",
        "outputId": "e13de9a2-cf8a-4045-a44b-360c729cbcbc"
      },
      "execution_count": null,
      "outputs": [
        {
          "output_type": "stream",
          "name": "stdout",
          "text": [
            "Address: 123 Beverly Hills\n",
            "Price: $25000000\n",
            "Number of rooms: 20\n"
          ]
        }
      ]
    }
  ]
}