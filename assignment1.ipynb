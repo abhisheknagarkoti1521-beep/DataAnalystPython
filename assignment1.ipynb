{
  "nbformat": 4,
  "nbformat_minor": 0,
  "metadata": {
    "colab": {
      "provenance": []
    },
    "kernelspec": {
      "name": "python3",
      "display_name": "Python 3"
    },
    "language_info": {
      "name": "python"
    }
  },
  "cells": [
    {
      "cell_type": "markdown",
      "source": [
        "#THEORITICAL QUESTIONS\n",
        "1- What is Python, and why is it popular ?\n",
        " - Python is a high level, interpreted language. it is easy to use and understand, abstracting away complex low-level details like memory management that other languages require programmers to handle.\n",
        " - It is polular because it is easy to use and beginner friendly language, making it accessible to non-programmers and allowing people from various fields to use it for everyday tasks.\n",
        "\n",
        " 2- What is an interpreter in Python ?\n",
        "  - A python interpreter is a program that directly executes python code.\n",
        "  When you write a python script, the interpreter reads the code, analyzes it and then executes it line by line or in blocks, without requiring a separate compilation step into machine code beforehand.\n",
        "\n",
        "  3- What are pre-defined keywords in Python ?\n",
        "  - In python pre defined functions are commonly referred to as built in functions. These are functions that are automatically available for use in any python program without requiring any explicit import.\n",
        "\n",
        "  4- Can keywords be used as variable names ?\n",
        "  - No\n",
        "\n",
        "  5- What is mutability in Python ?\n",
        "  - In python mutability refers to whether an objects state or value can be changed after it has been created.\n",
        "\n",
        "  6- Why are lists mutable, but tuples\n",
        "  are immutable ?\n",
        "  - Lists are mutable in python because their elements can be changed, added, or removed after the list has been created.\n",
        "  - Tuples are immutable because once tuple is created its elements can not be changed, added, or removed.\n",
        "\n",
        "  7- What is the difference between “==” and “is” operators in Python ?\n",
        "  - '==' This operator compare the value of two objects.It checks whether the content or state of the objects is the same.\n",
        "  - 'is' This operator compares the identities of two objects. It checks whether two variables refers to the exact same object in the memory.\n",
        "\n",
        "  8- What are logical operators in Python ?\n",
        "  - Logical operators in python are used to combine or modify conditional statements, resulting in a boolean value true or false.They are crucial for controlling program flow and making decisions based on multiple conditions.\n",
        "\n",
        "  9- What is type casting in Python ?\n",
        "  - Typecasting also known as explicit type conversion, is the process of manually converting a value from one data type to another using built in functions. This differs from implicit type conversion where python automatically handles the conversion.\n",
        "\n",
        "  10- What is the difference between implicit and explicit type casting ?\n",
        "  - Implicit type casting happens automatically, converting a smaller data type to a larger one without losing data, while explicit type casting requires a programmer to manually specify the conversion from a larger data type to a smaller one, potentially causing data loss.\n",
        "\n",
        "  11-  What is the purpose of conditional statements in Python ?\n",
        "  - The purpose of conditional statements in Python is to enable decision-making within a program, allowing different blocks of code to be executed based on whether specific conditions are true or false. This provides control over the program's flow, making it dynamic and responsive to varying inputs or states.\n",
        "\n",
        "  12- How does the elif statement work ?\n",
        "  - The elif statement in Python, short for \"else if,\" is used to check multiple conditions sequentially in a conditional block. It works in conjunction with an if statement and can be followed by an optional else statement.\n",
        "\n",
        "  13-What is the difference between for and while loops ?\n",
        "  - The main difference is that a for loop is used when you know the number of iterations in advance, while a while loop is used when the number of iterations is unknown and depends on a condition being true. A for loop typically includes initialization, a condition, and an update in its structure, providing a concise way to iterate over a set number of times. A while loop, however, only requires a condition and executes repeatedly as long as that condition remains true.\n",
        "\n",
        "  14- Describe a scenario where a while loop is more suitable than a for loop ?\n",
        "  - A scenario where a while loop is more suitable than a for loop in Python is when the number of iterations is not known in advance and depends on a dynamic condition that changes during the loop's execution.\n",
        "Scenario: User Input Validation until a Valid Entry is Provided\n",
        "Consider a program that needs to repeatedly prompt a user for input until a specific valid entry is provided. For example, asking the user to enter a positive integer, and continuing to prompt them until they do so.\n",
        "\n",
        "#CODING QUESTIONS\n",
        "\n",
        "1- Write a Python program to print \"Hello, World!\"\n",
        "\n"
      ],
      "metadata": {
        "id": "PupLB8OZGobC"
      }
    },
    {
      "cell_type": "code",
      "execution_count": 1,
      "metadata": {
        "id": "gIoNR2riFvPE",
        "colab": {
          "base_uri": "https://localhost:8080/"
        },
        "outputId": "60075ecc-11df-4086-85e4-20adaf46557d"
      },
      "outputs": [
        {
          "output_type": "stream",
          "name": "stdout",
          "text": [
            "Hello, World!\n"
          ]
        }
      ],
      "source": [
        "print(\"Hello, World!\")"
      ]
    },
    {
      "cell_type": "markdown",
      "source": [
        "2-Write a Python program that displays your name and age"
      ],
      "metadata": {
        "id": "nzOIui-LeNtI"
      }
    },
    {
      "cell_type": "code",
      "source": [
        "my_name = \"Abhishek Singh Nagarkoti\"\n",
        "my_age = 21\n",
        "print(f\"My name is {my_name} and I am {my_age} years old.\")"
      ],
      "metadata": {
        "colab": {
          "base_uri": "https://localhost:8080/"
        },
        "id": "u1Y7GCydeVxF",
        "outputId": "ba6e972a-cbe7-4821-a56b-cd4942ae1e89"
      },
      "execution_count": 2,
      "outputs": [
        {
          "output_type": "stream",
          "name": "stdout",
          "text": [
            "My name is Abhishek Singh Nagarkoti and I am 21 years old.\n"
          ]
        }
      ]
    },
    {
      "cell_type": "markdown",
      "source": [
        "3-Write a Python program to  print all the pre-defined keywords in Python using the keyword library"
      ],
      "metadata": {
        "id": "tnJUrrotfGh6"
      }
    },
    {
      "cell_type": "code",
      "source": [
        "import keyword\n",
        "print(keyword.kwlist)"
      ],
      "metadata": {
        "colab": {
          "base_uri": "https://localhost:8080/"
        },
        "id": "p-oNfk_rfTdx",
        "outputId": "5e56eb73-aaa6-4043-9681-435f765097c3"
      },
      "execution_count": 3,
      "outputs": [
        {
          "output_type": "stream",
          "name": "stdout",
          "text": [
            "['False', 'None', 'True', 'and', 'as', 'assert', 'async', 'await', 'break', 'class', 'continue', 'def', 'del', 'elif', 'else', 'except', 'finally', 'for', 'from', 'global', 'if', 'import', 'in', 'is', 'lambda', 'nonlocal', 'not', 'or', 'pass', 'raise', 'return', 'try', 'while', 'with', 'yield']\n"
          ]
        }
      ]
    },
    {
      "cell_type": "markdown",
      "source": [
        "4- Write a program that checks if a given word is a Python keyword."
      ],
      "metadata": {
        "id": "fNS5Mc1tfqVN"
      }
    },
    {
      "cell_type": "code",
      "source": [
        "import keyword\n",
        "word_to_check = input(\"Enter a word to check if it's a Python keyword: \")\n",
        "if keyword.iskeyword(word_to_check):\n",
        "    print(f\"'{word_to_check}' is a Python keyword.\")\n",
        "else:\n",
        "    print(f\"'{word_to_check}' is NOT a Python keyword.\")"
      ],
      "metadata": {
        "colab": {
          "base_uri": "https://localhost:8080/"
        },
        "id": "00WiwpP2fujV",
        "outputId": "a4ecb7e6-1d9c-45e0-838a-90bed5a28aa8"
      },
      "execution_count": 5,
      "outputs": [
        {
          "output_type": "stream",
          "name": "stdout",
          "text": [
            "Enter a word to check if it's a Python keyword: if\n",
            "'if' is a Python keyword.\n"
          ]
        }
      ]
    },
    {
      "cell_type": "markdown",
      "source": [
        "5-Create a list and tuple in Python, and demonstrate how attempting to change an element works differently\n",
        "for each."
      ],
      "metadata": {
        "id": "s8bs13D4gEQF"
      }
    },
    {
      "cell_type": "code",
      "source": [
        "my_list = [10, 20, 30]\n",
        "my_tuple = (10, 20, 30)\n",
        "\n",
        "print(\"Original list:\", my_list)\n",
        "print(\"Original tuple:\", my_tuple)\n",
        "\n",
        "print(\"\\n--- Attempting to change an element in the list ---\")\n",
        "try:\n",
        "    my_list[1] = 25\n",
        "    print(\"List after modification:\", my_list)\n",
        "except TypeError as e:\n",
        "    print(f\"An error occurred with the list: {e}\")\n",
        "\n",
        "print(\"\\n--- Attempting to change an element in the tuple ---\")\n",
        "try:\n",
        "    my_tuple[1] = 25\n",
        "    print(\"Tuple after modification:\", my_tuple)\n",
        "except TypeError as e:\n",
        "    print(f\"An error occurred with the tuple: {e}\")"
      ],
      "metadata": {
        "colab": {
          "base_uri": "https://localhost:8080/"
        },
        "id": "qTu5-vrqgH2f",
        "outputId": "0cf54a29-4e32-4569-d1a6-cf6390602eab"
      },
      "execution_count": 6,
      "outputs": [
        {
          "output_type": "stream",
          "name": "stdout",
          "text": [
            "Original list: [10, 20, 30]\n",
            "Original tuple: (10, 20, 30)\n",
            "\n",
            "--- Attempting to change an element in the list ---\n",
            "List after modification: [10, 25, 30]\n",
            "\n",
            "--- Attempting to change an element in the tuple ---\n",
            "An error occurred with the tuple: 'tuple' object does not support item assignment\n"
          ]
        }
      ]
    },
    {
      "cell_type": "markdown",
      "source": [
        "6-Write a function  to demonstrate the behavior of mutable and immutable arguments"
      ],
      "metadata": {
        "id": "1Kqrzrvhgb8N"
      }
    },
    {
      "cell_type": "code",
      "source": [
        "def modify_list(items):\n",
        "    \"\"\"Adds an element to a list argument.\"\"\"\n",
        "    print(\"Inside function (start):\", items)\n",
        "    items.append(4)  # This modifies the original list\n",
        "    print(\"Inside function (end):\", items)\n",
        "\n",
        "# Create a list outside the function\n",
        "my_list = [1, 2, 3]\n",
        "print(\"Outside function (before call):\", my_list)\n",
        "\n",
        "# Call the function with the mutable list\n",
        "modify_list(my_list)\n",
        "print(\"Outside function (after call):\", my_list)\n",
        "\n",
        "print(\"\\n\" + \"=\"*40 + \"\\n\") # separator\n",
        "\n",
        "# --- Demo with an immutable argument (a tuple) ---\n",
        "\n",
        "def modify_tuple(items):\n",
        "    \"\"\"Attempts to add an element to a tuple argument.\"\"\"\n",
        "    print(\"Inside function (start):\", items)\n",
        "    try:\n",
        "        items = items + (4,)  # Creates a NEW tuple inside the function\n",
        "        print(\"Inside function (after modification):\", items)\n",
        "    except TypeError as e:\n",
        "        print(f\"Inside function (error): {e}\")\n",
        "\n",
        "# Create a tuple outside the function\n",
        "my_tuple = (1, 2, 3)\n",
        "print(\"Outside function (before call):\", my_tuple)\n",
        "\n",
        "# Call the function with the immutable tuple\n",
        "modify_tuple(my_tuple)\n",
        "print(\"Outside function (after call):\", my_tuple)"
      ],
      "metadata": {
        "colab": {
          "base_uri": "https://localhost:8080/"
        },
        "id": "xbReSXClgn7q",
        "outputId": "99cd354b-3930-4027-c142-0eb725da4732"
      },
      "execution_count": 7,
      "outputs": [
        {
          "output_type": "stream",
          "name": "stdout",
          "text": [
            "Outside function (before call): [1, 2, 3]\n",
            "Inside function (start): [1, 2, 3]\n",
            "Inside function (end): [1, 2, 3, 4]\n",
            "Outside function (after call): [1, 2, 3, 4]\n",
            "\n",
            "========================================\n",
            "\n",
            "Outside function (before call): (1, 2, 3)\n",
            "Inside function (start): (1, 2, 3)\n",
            "Inside function (after modification): (1, 2, 3, 4)\n",
            "Outside function (after call): (1, 2, 3)\n"
          ]
        }
      ]
    },
    {
      "cell_type": "markdown",
      "source": [
        "7-Write a program that  performs basic arithmetic operations on two user-input numbers"
      ],
      "metadata": {
        "id": "QcXOAWj7g8Ve"
      }
    },
    {
      "cell_type": "code",
      "source": [
        "try:\n",
        "    # Get user input for two numbers.\n",
        "    # float() is used to handle both integers and decimals.\n",
        "    num1 = float(input(\"Enter the first number: \"))\n",
        "    num2 = float(input(\"Enter the second number: \"))\n",
        "\n",
        "    # Perform arithmetic operations\n",
        "    sum = num1 + num2\n",
        "    difference = num1 - num2\n",
        "    product = num1 * num2\n",
        "\n",
        "    # Display the results\n",
        "    print(f\"\\nResults:\")\n",
        "    print(f\"{num1} + {num2} = {sum}\")\n",
        "    print(f\"{num1} - {num2} = {difference}\")\n",
        "    print(f\"{num1} * {num2} = {product}\")\n",
        "\n",
        "    # Handle division by zero with an if-else statement\n",
        "    if num2 != 0:\n",
        "        division = num1 / num2\n",
        "        print(f\"{num1} / {num2} = {division}\")\n",
        "    else:\n",
        "        print(\"Cannot divide by zero.\")\n",
        "\n",
        "except ValueError:\n",
        "    print(\"Invalid input. Please enter valid numbers.\")"
      ],
      "metadata": {
        "colab": {
          "base_uri": "https://localhost:8080/"
        },
        "id": "bR8KJMoVhHyT",
        "outputId": "6961cab3-c05d-4dde-8201-708a05073e41"
      },
      "execution_count": 8,
      "outputs": [
        {
          "output_type": "stream",
          "name": "stdout",
          "text": [
            "Enter the first number: 10\n",
            "Enter the second number: 20\n",
            "\n",
            "Results:\n",
            "10.0 + 20.0 = 30.0\n",
            "10.0 - 20.0 = -10.0\n",
            "10.0 * 20.0 = 200.0\n",
            "10.0 / 20.0 = 0.5\n"
          ]
        }
      ]
    },
    {
      "cell_type": "markdown",
      "source": [
        "8-Write a program to demonstrate the use of logical operators."
      ],
      "metadata": {
        "id": "KM1P3v7NhZv8"
      }
    },
    {
      "cell_type": "code",
      "source": [
        "is_adult = True\n",
        "can_drive = True\n",
        "if is_adult and can_drive:\n",
        "    print(\"You can drive.\") # This will print\n",
        "\n",
        "# The logical `or` operator\n",
        "# Returns True if at least one side is True\n",
        "is_student = False\n",
        "is_senior = True\n",
        "if is_student or is_senior:\n",
        "    print(\"You get a discount.\") # This will print\n",
        "\n",
        "# The logical `not` operator\n",
        "# Reverses a True/False result\n",
        "is_raining = True\n",
        "if not is_raining:\n",
        "    print(\"Go outside!\")\n",
        "else:\n",
        "    print(\"Stay inside.\")"
      ],
      "metadata": {
        "colab": {
          "base_uri": "https://localhost:8080/"
        },
        "id": "VAayixHWheqN",
        "outputId": "1db0bc6f-76ad-4d1c-cfbc-7e7dcc1c5212"
      },
      "execution_count": 9,
      "outputs": [
        {
          "output_type": "stream",
          "name": "stdout",
          "text": [
            "You can drive.\n",
            "You get a discount.\n",
            "Stay inside.\n"
          ]
        }
      ]
    },
    {
      "cell_type": "markdown",
      "source": [
        "9-Write a python program  to convert user input from string to integer, float, and boolean types"
      ],
      "metadata": {
        "id": "Ds2Ucdq_hxPJ"
      }
    },
    {
      "cell_type": "code",
      "source": [
        "user_input_int = input(\"Enter an integer: \")\n",
        "try:\n",
        "    converted_int = int(user_input_int)\n",
        "    print(f\"\\nString '{user_input_int}' converted to integer: {converted_int} (Type: {type(converted_int)})\")\n",
        "except ValueError:\n",
        "    print(f\"\\nError: '{user_input_int}' cannot be converted to an integer.\")\n",
        "\n",
        "# --- Convert string to float ---\n",
        "user_input_float = input(\"\\nEnter a float (e.g., 3.14): \")\n",
        "try:\n",
        "    converted_float = float(user_input_float)\n",
        "    print(f\"\\nString '{user_input_float}' converted to float: {converted_float} (Type: {type(converted_float)})\")\n",
        "except ValueError:\n",
        "    print(f\"\\nError: '{user_input_float}' cannot be converted to a float.\")\n",
        "\n",
        "# --- Convert string to boolean ---\n",
        "user_input_bool = input(\"\\nEnter 'True' or 'False' to convert to a boolean: \")\n",
        "\n",
        "# A specific check is needed because bool('False') evaluates to True\n",
        "# We convert to lowercase and check explicitly\n",
        "if user_input_bool.lower() == 'true':\n",
        "    converted_bool = True\n",
        "    print(f\"\\nString '{user_input_bool}' converted to boolean: {converted_bool} (Type: {type(converted_bool)})\")\n",
        "elif user_input_bool.lower() == 'false':\n",
        "    converted_bool = False\n",
        "    print(f\"\\nString '{user_input_bool}' converted to boolean: {converted_bool} (Type: {type(converted_bool)})\")\n",
        "else:\n",
        "    print(f\"\\nError: '{user_input_bool}' is not a valid boolean literal ('True' or 'False').\")"
      ],
      "metadata": {
        "colab": {
          "base_uri": "https://localhost:8080/"
        },
        "id": "lk6I_P3Mh5ah",
        "outputId": "7954f166-08dc-4495-a88c-3d2ffae7476c"
      },
      "execution_count": 10,
      "outputs": [
        {
          "output_type": "stream",
          "name": "stdout",
          "text": [
            "Enter an integer: 2\n",
            "\n",
            "String '2' converted to integer: 2 (Type: <class 'int'>)\n",
            "\n",
            "Enter a float (e.g., 3.14): 6.56\n",
            "\n",
            "String '6.56' converted to float: 6.56 (Type: <class 'float'>)\n",
            "\n",
            "Enter 'True' or 'False' to convert to a boolean: true\n",
            "\n",
            "String 'true' converted to boolean: True (Type: <class 'bool'>)\n"
          ]
        }
      ]
    },
    {
      "cell_type": "markdown",
      "source": [
        "10-Write code to demonstrate type casting with list elements"
      ],
      "metadata": {
        "id": "NS7ivmiWicQi"
      }
    },
    {
      "cell_type": "code",
      "source": [
        "str_list = ['1', '2', '3', '4', '5']\n",
        "print(f\"Original list: {str_list} (Type of first element: {type(str_list[0])})\")\n",
        "\n",
        "# Cast all elements to integers using a list comprehension\n",
        "int_list = [int(item) for item in str_list]\n",
        "print(f\"List after casting to integers: {int_list} (Type of first element: {type(int_list[0])})\")\n",
        "\n",
        "# A list of integers\n",
        "int_list_2 = [10, 20, 30]\n",
        "print(f\"\\nOriginal list: {int_list_2} (Type of first element: {type(int_list_2[0])})\")\n",
        "\n",
        "# Cast all elements to strings using a list comprehension\n",
        "str_list_2 = [str(item) for item in int_list_2]\n",
        "print(f\"List after casting to strings: {str_list_2} (Type of first element: {type(str_list_2[0])})\")\n",
        "\n",
        "# A list with mixed types that can be cast to floats\n",
        "mixed_list = ['1.1', '2', '3.3']\n",
        "print(f\"\\nOriginal list: {mixed_list} (Type of first element: {type(mixed_list[0])})\")\n",
        "\n",
        "# Cast all elements to floats using a list comprehension\n",
        "float_list = [float(item) for item in mixed_list]\n",
        "print(f\"List after casting to floats: {float_list} (Type of first element: {type(float_list[0])})\")"
      ],
      "metadata": {
        "colab": {
          "base_uri": "https://localhost:8080/"
        },
        "id": "EUIdo_CrihFA",
        "outputId": "17a8b997-9342-4527-fde7-118eb9e9f4f4"
      },
      "execution_count": 11,
      "outputs": [
        {
          "output_type": "stream",
          "name": "stdout",
          "text": [
            "Original list: ['1', '2', '3', '4', '5'] (Type of first element: <class 'str'>)\n",
            "List after casting to integers: [1, 2, 3, 4, 5] (Type of first element: <class 'int'>)\n",
            "\n",
            "Original list: [10, 20, 30] (Type of first element: <class 'int'>)\n",
            "List after casting to strings: ['10', '20', '30'] (Type of first element: <class 'str'>)\n",
            "\n",
            "Original list: ['1.1', '2', '3.3'] (Type of first element: <class 'str'>)\n",
            "List after casting to floats: [1.1, 2.0, 3.3] (Type of first element: <class 'float'>)\n"
          ]
        }
      ]
    },
    {
      "cell_type": "markdown",
      "source": [
        "11-Write a program that checks if a number is positive, negative, or zero"
      ],
      "metadata": {
        "id": "lM7hINzujAC8"
      }
    },
    {
      "cell_type": "code",
      "source": [
        "try:\n",
        "    number = float(input(\"Enter a number: \"))\n",
        "    if number > 0:\n",
        "        print(f\"The number {number} is positive.\")\n",
        "    elif number < 0:\n",
        "        print(f\"The number {number} is negative.\")\n",
        "    else:\n",
        "        print(f\"The number {number} is zero.\")\n",
        "\n",
        "except ValueError:\n",
        "    print(\"Invalid input. Please enter a valid number.\")"
      ],
      "metadata": {
        "colab": {
          "base_uri": "https://localhost:8080/"
        },
        "id": "PheAQRqcjF7U",
        "outputId": "bb915411-c5c1-400f-ad1f-cd735483bb90"
      },
      "execution_count": 12,
      "outputs": [
        {
          "output_type": "stream",
          "name": "stdout",
          "text": [
            "Enter a number: 25\n",
            "The number 25.0 is positive.\n"
          ]
        }
      ]
    },
    {
      "cell_type": "markdown",
      "source": [
        "12-Write a for loop to print numbers from 1 to 10."
      ],
      "metadata": {
        "id": "IjGCvNrZjT35"
      }
    },
    {
      "cell_type": "code",
      "source": [
        "for number in range(1, 11):\n",
        "  print(number)"
      ],
      "metadata": {
        "colab": {
          "base_uri": "https://localhost:8080/"
        },
        "id": "YwBO1kLojYNF",
        "outputId": "538ae0d1-09a8-42c2-a2df-b04b2b177888"
      },
      "execution_count": 13,
      "outputs": [
        {
          "output_type": "stream",
          "name": "stdout",
          "text": [
            "1\n",
            "2\n",
            "3\n",
            "4\n",
            "5\n",
            "6\n",
            "7\n",
            "8\n",
            "9\n",
            "10\n"
          ]
        }
      ]
    },
    {
      "cell_type": "markdown",
      "source": [
        "13-Write a python program to find the sum of all even numbers between 1 and 50."
      ],
      "metadata": {
        "id": "0JIFrs7ejgfv"
      }
    },
    {
      "cell_type": "code",
      "source": [
        "total_sum = 0\n",
        "for number in range(1, 51):\n",
        "    if number % 2 == 0:\n",
        "        total_sum = total_sum + number\n",
        "print(f\"The sum of all even numbers between 1 and 50 is: {total_sum}\")"
      ],
      "metadata": {
        "colab": {
          "base_uri": "https://localhost:8080/"
        },
        "id": "FexxqcYujpUf",
        "outputId": "271ee584-a014-448c-a000-ad85b2d586df"
      },
      "execution_count": 14,
      "outputs": [
        {
          "output_type": "stream",
          "name": "stdout",
          "text": [
            "The sum of all even numbers between 1 and 50 is: 650\n"
          ]
        }
      ]
    },
    {
      "cell_type": "markdown",
      "source": [
        "14-Write a program to reverse a string using a while loop."
      ],
      "metadata": {
        "id": "OJTAh5drj4tS"
      }
    },
    {
      "cell_type": "code",
      "source": [
        "original_string = input(\"Enter a string: \")\n",
        "reversed_string = \"\"\n",
        "index = len(original_string) - 1\n",
        "while index >= 0:\n",
        "    reversed_string += original_string[index]\n",
        "    index -= 1\n",
        "print(f\"The reversed string is: {reversed_string}\")"
      ],
      "metadata": {
        "colab": {
          "base_uri": "https://localhost:8080/"
        },
        "id": "OFE7T7twj9Ga",
        "outputId": "70a7b86c-8916-4fee-bcd2-7aba60434ca8"
      },
      "execution_count": 16,
      "outputs": [
        {
          "output_type": "stream",
          "name": "stdout",
          "text": [
            "Enter a string: abhishek\n",
            "The reversed string is: kehsihba\n"
          ]
        }
      ]
    },
    {
      "cell_type": "markdown",
      "source": [
        "15-Write aa python program to calculate the factorial of a number provided by the user using a while loop."
      ],
      "metadata": {
        "id": "9GyaBoLtkTsJ"
      }
    },
    {
      "cell_type": "code",
      "source": [
        "while True:\n",
        "    try:\n",
        "        num_str = input(\"Enter a non-negative integer: \")\n",
        "        num = int(num_str)\n",
        "        if num < 0:\n",
        "            print(\"Factorial is not defined for negative numbers. Please try again.\")\n",
        "        else:\n",
        "            break\n",
        "    except ValueError:\n",
        "        print(\"Invalid input. Please enter a valid integer.\")\n",
        "factorial = 1\n",
        "counter = 1\n",
        "while counter <= num:\n",
        "    factorial *= counter\n",
        "    counter += 1\n",
        "print(f\"\\nThe factorial of {num} is {factorial}\")"
      ],
      "metadata": {
        "colab": {
          "base_uri": "https://localhost:8080/"
        },
        "id": "5YJTnEJukc0w",
        "outputId": "18b0501e-2ddf-44df-fbb3-729f6b39777b"
      },
      "execution_count": 17,
      "outputs": [
        {
          "output_type": "stream",
          "name": "stdout",
          "text": [
            "Enter a non-negative integer: 15\n",
            "\n",
            "The factorial of 15 is 1307674368000\n"
          ]
        }
      ]
    }
  ]
}